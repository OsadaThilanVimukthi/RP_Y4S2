{
 "cells": [
  {
   "cell_type": "markdown",
   "metadata": {},
   "source": [
    "# Final ML Model Deploy - Test the Current RF Model"
   ]
  },
  {
   "cell_type": "markdown",
   "metadata": {},
   "source": [
    "### Predicting Price Values"
   ]
  },
  {
   "cell_type": "code",
   "execution_count": 2,
   "metadata": {},
   "outputs": [
    {
     "name": "stdout",
     "output_type": "stream",
     "text": [
      "Predicted Wholesale Price: 55.12\n",
      "Predicted Retail Price: 153.00\n"
     ]
    }
   ],
   "source": [
    "import joblib\n",
    "import pandas as pd\n",
    "\n",
    "# Load the Random Forest model, encoder, and scalers\n",
    "rf_model_filename = './fun1/rf_model.pkl'\n",
    "encoder_filename = './fun1/encoder.pkl'\n",
    "scaler_X_filename = './fun1/scaler_X.pkl'\n",
    "scaler_y_filename = './fun1/scaler_y.pkl'\n",
    "\n",
    "rf_model = joblib.load(rf_model_filename)\n",
    "encoder = joblib.load(encoder_filename)\n",
    "scaler_X = joblib.load(scaler_X_filename)\n",
    "scaler_y = joblib.load(scaler_y_filename)\n",
    "\n",
    "# Define a function to get price predictions\n",
    "def predict_price(year, month, location):\n",
    "    # Create a DataFrame with the user input\n",
    "    input_data = pd.DataFrame({'year': [year], 'month': [month], 'location': [location]})\n",
    "\n",
    "    # Encode location using the loaded encoder\n",
    "    location_encoded = encoder.transform(input_data[['location']])\n",
    "    location_encoded_df = pd.DataFrame(location_encoded, columns=encoder.get_feature_names_out(['location']))\n",
    "    location_encoded_df.columns = location_encoded_df.columns.str.split('_').str[-1]\n",
    "\n",
    "    # Drop the 'location' column and concatenate the encoded 'location' columns\n",
    "    input_data.drop(columns=['location'], inplace=True)\n",
    "    input_data = pd.concat([input_data, location_encoded_df], axis=1)\n",
    "\n",
    "    # Standardize the input data for independent variables (X)\n",
    "    input_data_x = pd.DataFrame(scaler_X.transform(input_data), columns=input_data.columns)\n",
    "\n",
    "    # Make price predictions using the Random Forest model\n",
    "    price_predictions_y = rf_model.predict(input_data_x)\n",
    "\n",
    "    # Inverse transform the predicted values for dependent variables (y) to get them back to their original scale\n",
    "    price_predictions = scaler_y.inverse_transform(price_predictions_y)\n",
    "\n",
    "    return price_predictions\n",
    "\n",
    "# User inputs\n",
    "year = 2023\n",
    "month = 11\n",
    "location = 'Colombo'  # Change this to the desired location\n",
    "\n",
    "# Get price predictions\n",
    "predicted_prices = predict_price(year, month, location)\n",
    "\n",
    "# Display the predicted prices\n",
    "print(f\"Predicted Wholesale Price: {predicted_prices[0][0]:.2f}\")\n",
    "print(f\"Predicted Retail Price: {predicted_prices[0][1]:.2f}\")\n"
   ]
  },
  {
   "cell_type": "markdown",
   "metadata": {},
   "source": [
    "---------------------\n",
    "### Next Steps - Done inside the `final_model_deploy_v2.0.ipynb` file."
   ]
  },
  {
   "cell_type": "markdown",
   "metadata": {},
   "source": [
    "Input\n",
    "\n",
    "- Year and Month - Get the current year and month from the system\n",
    "    - Then create the upcoming 12 months with respective years\n",
    "\n",
    "User Input\n",
    "\n",
    "- Location - Give location where user plan to cultivate\n",
    "\n",
    "Analysis: \n",
    "\n",
    "- Harvesting Duration: 45 Days\n",
    "- Expected Harvest amount: ?\n",
    "\n",
    "Output\n",
    "\n",
    "- Highest Income & Highest incoming month\n",
    "- Which month should be cultivated for that."
   ]
  },
  {
   "cell_type": "markdown",
   "metadata": {},
   "source": [
    "**You can use this list of locations in the above script for predictions**"
   ]
  },
  {
   "cell_type": "code",
   "execution_count": null,
   "metadata": {},
   "outputs": [],
   "source": [
    "locations = [\n",
    "    'Galle',\n",
    "    'Thissamaharama',\n",
    "    'Rathnapura',\n",
    "    'Gampaha',\n",
    "    'Bandarawela',\n",
    "    'Embilipitiya',\n",
    "    'Veyangoda',\n",
    "    'Meegoda',\n",
    "    'Kurunegala',\n",
    "    'Keppetipola',\n",
    "    'Dehiattakandiya',\n",
    "    'Hambanthota',\n",
    "    'Jaffna',\n",
    "    'Polonnaruwa',\n",
    "    'Nikaweratiya',\n",
    "    'Trinco',\n",
    "    'Kaluthara',\n",
    "    'Badulla',\n",
    "    'Anuradapuraya',\n",
    "    'Vavuniya',\n",
    "    'Matale',\n",
    "    'Mannar',\n",
    "    'Dabulla',\n",
    "    'Mullathivu',\n",
    "    'Kandy',\n",
    "    'Matara',\n",
    "    'Thabuththegama',\n",
    "    'Nuwara Eliya',\n",
    "    'Ampara',\n",
    "    'Monaragala',\n",
    "    'Colombo',\n",
    "    'Hanguranketha',\n",
    "    'Puttalam',\n",
    "    'Batticaloa',\n",
    "    'Kegalle',\n",
    "    'Galenbidunuwewa',\n",
    "    'Kilinochchi'\n",
    "]"
   ]
  }
 ],
 "metadata": {
  "kernelspec": {
   "display_name": "cucumber-dev",
   "language": "python",
   "name": "python3"
  },
  "language_info": {
   "codemirror_mode": {
    "name": "ipython",
    "version": 3
   },
   "file_extension": ".py",
   "mimetype": "text/x-python",
   "name": "python",
   "nbconvert_exporter": "python",
   "pygments_lexer": "ipython3",
   "version": "3.10.13"
  }
 },
 "nbformat": 4,
 "nbformat_minor": 2
}
