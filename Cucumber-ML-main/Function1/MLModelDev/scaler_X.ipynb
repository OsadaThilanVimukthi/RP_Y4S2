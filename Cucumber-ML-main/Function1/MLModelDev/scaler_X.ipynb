{
 "cells": [
  {
   "cell_type": "markdown",
   "metadata": {},
   "source": [
    "# Create Scaler for Independent variables (X)"
   ]
  },
  {
   "cell_type": "code",
   "execution_count": 1,
   "metadata": {},
   "outputs": [],
   "source": [
    "import joblib\n",
    "import pandas as pd\n",
    "from sklearn.preprocessing import StandardScaler\n",
    "from sklearn.preprocessing import OneHotEncoder\n",
    "from sklearn.model_selection import train_test_split"
   ]
  },
  {
   "cell_type": "code",
   "execution_count": 2,
   "metadata": {},
   "outputs": [
    {
     "name": "stdout",
     "output_type": "stream",
     "text": [
      "   year  month     location  wholesale_price  retail_price\n",
      "0  2017      1  Keppetipola            45.42          98.0\n",
      "1  2017      1   Kurunegala            61.00         103.0\n",
      "2  2017      1       Ampara            73.91         124.8\n",
      "3  2017      1       Matale            68.94         116.4\n",
      "4  2017      1     Vavuniya            46.19          78.0\n"
     ]
    }
   ],
   "source": [
    "data_file = \"./RFModelDev/Datasets/final_wholesale_retail_dataset_v0.0.csv\"\n",
    "dataset = pd.read_csv(data_file)\n",
    "\n",
    "# Display the first few rows of the dataset to get an overview\n",
    "print(dataset.head())"
   ]
  },
  {
   "cell_type": "code",
   "execution_count": 3,
   "metadata": {},
   "outputs": [
    {
     "name": "stdout",
     "output_type": "stream",
     "text": [
      "Unique Locations Before Encoding:\n",
      "['Keppetipola' 'Kurunegala' 'Ampara' 'Matale' 'Vavuniya' 'Mannar' 'Trinco'\n",
      " 'Matara' 'Bandarawela' 'Dehiattakandiya' 'Nikaweratiya' 'Embilipitiya'\n",
      " 'Dabulla' 'Hanguranketha' 'Galle' 'Thabuththegama' 'Thissamaharama'\n",
      " 'Kandy' 'Polonnaruwa' 'Galenbidunuwewa' 'Kilinochchi' 'Kegalle'\n",
      " 'Nuwara Eliya' 'Rathnapura' 'Mullathivu' 'Jaffna' 'Puttalam' 'Gampaha'\n",
      " 'Kaluthara' 'Batticaloa' 'Meegoda' 'Badulla' 'Hambanthota' 'Monaragala'\n",
      " 'Colombo' 'Veyangoda' 'Anuradapuraya']\n"
     ]
    }
   ],
   "source": [
    "# Get unique locations before encoding\n",
    "unique_locations_before_encoding = dataset['location'].unique()\n",
    "\n",
    "# Display unique locations before encoding\n",
    "print(\"Unique Locations Before Encoding:\")\n",
    "print(unique_locations_before_encoding)"
   ]
  },
  {
   "cell_type": "code",
   "execution_count": 4,
   "metadata": {},
   "outputs": [
    {
     "name": "stdout",
     "output_type": "stream",
     "text": [
      "\n",
      "Independent variables (X):\n",
      "   year  month     location\n",
      "0  2017      1  Keppetipola\n",
      "1  2017      1   Kurunegala\n",
      "2  2017      1       Ampara\n",
      "3  2017      1       Matale\n",
      "4  2017      1     Vavuniya\n",
      "\n",
      "Dependent variables (y):\n",
      "   wholesale_price  retail_price\n",
      "0            45.42          98.0\n",
      "1            61.00         103.0\n",
      "2            73.91         124.8\n",
      "3            68.94         116.4\n",
      "4            46.19          78.0\n"
     ]
    }
   ],
   "source": [
    "X = dataset.iloc[:, :-2]  # Select all columns except the last two\n",
    "y = dataset.iloc[:, -2:]  # Select the last two columns\n",
    "\n",
    "# Display the first few rows of X and y\n",
    "print(\"\\nIndependent variables (X):\")\n",
    "print(X.head())\n",
    "\n",
    "print(\"\\nDependent variables (y):\")\n",
    "print(y.head())"
   ]
  },
  {
   "cell_type": "code",
   "execution_count": 5,
   "metadata": {},
   "outputs": [],
   "source": [
    "encoder = OneHotEncoder(sparse_output=False)\n",
    "X_encoded = encoder.fit_transform(X[['location']])\n",
    "X_encoded_df = pd.DataFrame(X_encoded, columns=encoder.get_feature_names_out(['location']))\n",
    "\n",
    "## Simplify header names by keeping only city names\n",
    "X_encoded_df.columns = X_encoded_df.columns.str.split('_').str[-1]\n",
    "X.drop(columns=['location'], inplace=True)  # Drop the original 'location' column\n",
    "X = pd.concat([X, X_encoded_df], axis=1)  # Concatenate the encoded 'location' columns"
   ]
  },
  {
   "cell_type": "code",
   "execution_count": 6,
   "metadata": {},
   "outputs": [
    {
     "name": "stdout",
     "output_type": "stream",
     "text": [
      "\n",
      "Unique Locations After Encoding:\n",
      "Index(['Ampara', 'Anuradapuraya', 'Badulla', 'Bandarawela', 'Batticaloa',\n",
      "       'Colombo', 'Dabulla', 'Dehiattakandiya', 'Embilipitiya',\n",
      "       'Galenbidunuwewa', 'Galle', 'Gampaha', 'Hambanthota', 'Hanguranketha',\n",
      "       'Jaffna', 'Kaluthara', 'Kandy', 'Kegalle', 'Keppetipola', 'Kilinochchi',\n",
      "       'Kurunegala', 'Mannar', 'Matale', 'Matara', 'Meegoda', 'Monaragala',\n",
      "       'Mullathivu', 'Nikaweratiya', 'Nuwara Eliya', 'Polonnaruwa', 'Puttalam',\n",
      "       'Rathnapura', 'Thabuththegama', 'Thissamaharama', 'Trinco', 'Vavuniya',\n",
      "       'Veyangoda'],\n",
      "      dtype='object')\n"
     ]
    }
   ],
   "source": [
    "# Display unique locations after encoding\n",
    "print(\"\\nUnique Locations After Encoding:\")\n",
    "print(X_encoded_df.columns)"
   ]
  },
  {
   "cell_type": "code",
   "execution_count": 7,
   "metadata": {},
   "outputs": [
    {
     "name": "stdout",
     "output_type": "stream",
     "text": [
      "\n",
      "Updated Independent variables (X) after encoding and standardization:\n",
      "       year     month    Ampara  Anuradapuraya   Badulla  Bandarawela  \\\n",
      "0 -1.451288 -1.597845 -0.166699      -0.166699 -0.166699    -0.166699   \n",
      "1 -1.451288 -1.597845 -0.166699      -0.166699 -0.166699    -0.166699   \n",
      "2 -1.451288 -1.597845  5.998826      -0.166699 -0.166699    -0.166699   \n",
      "3 -1.451288 -1.597845 -0.166699      -0.166699 -0.166699    -0.166699   \n",
      "4 -1.451288 -1.597845 -0.166699      -0.166699 -0.166699    -0.166699   \n",
      "\n",
      "   Batticaloa   Colombo   Dabulla  Dehiattakandiya  ...  Nikaweratiya  \\\n",
      "0   -0.166699 -0.166699 -0.166699        -0.166699  ...     -0.166699   \n",
      "1   -0.166699 -0.166699 -0.166699        -0.166699  ...     -0.166699   \n",
      "2   -0.166699 -0.166699 -0.166699        -0.166699  ...     -0.166699   \n",
      "3   -0.166699 -0.166699 -0.166699        -0.166699  ...     -0.166699   \n",
      "4   -0.166699 -0.166699 -0.166699        -0.166699  ...     -0.166699   \n",
      "\n",
      "   Nuwara Eliya  Polonnaruwa  Puttalam  Rathnapura  Thabuththegama  \\\n",
      "0     -0.166699    -0.166699 -0.166699   -0.166699       -0.166699   \n",
      "1     -0.166699    -0.166699 -0.166699   -0.166699       -0.166699   \n",
      "2     -0.166699    -0.166699 -0.166699   -0.166699       -0.166699   \n",
      "3     -0.166699    -0.166699 -0.166699   -0.166699       -0.166699   \n",
      "4     -0.166699    -0.166699 -0.166699   -0.166699       -0.166699   \n",
      "\n",
      "   Thissamaharama    Trinco  Vavuniya  Veyangoda  \n",
      "0       -0.166699 -0.166699 -0.166699  -0.166699  \n",
      "1       -0.166699 -0.166699 -0.166699  -0.166699  \n",
      "2       -0.166699 -0.166699 -0.166699  -0.166699  \n",
      "3       -0.166699 -0.166699 -0.166699  -0.166699  \n",
      "4       -0.166699 -0.166699  5.998826  -0.166699  \n",
      "\n",
      "[5 rows x 39 columns]\n"
     ]
    }
   ],
   "source": [
    "scaler = StandardScaler()\n",
    "X = pd.DataFrame(scaler.fit_transform(X), columns=X.columns)\n",
    "\n",
    "# Display the first few rows of the updated X and y\n",
    "print(\"\\nUpdated Independent variables (X) after encoding and standardization:\")\n",
    "print(X.head())\n"
   ]
  },
  {
   "cell_type": "code",
   "execution_count": 8,
   "metadata": {},
   "outputs": [
    {
     "data": {
      "text/plain": [
       "['./fun1/scaler_X.pkl']"
      ]
     },
     "execution_count": 8,
     "metadata": {},
     "output_type": "execute_result"
    }
   ],
   "source": [
    "scaler_filename = './fun1/scaler_X.pkl'\n",
    "joblib.dump(scaler, scaler_filename)"
   ]
  }
 ],
 "metadata": {
  "kernelspec": {
   "display_name": "cucumber-dev",
   "language": "python",
   "name": "python3"
  },
  "language_info": {
   "codemirror_mode": {
    "name": "ipython",
    "version": 3
   },
   "file_extension": ".py",
   "mimetype": "text/x-python",
   "name": "python",
   "nbconvert_exporter": "python",
   "pygments_lexer": "ipython3",
   "version": "3.10.13"
  }
 },
 "nbformat": 4,
 "nbformat_minor": 2
}
