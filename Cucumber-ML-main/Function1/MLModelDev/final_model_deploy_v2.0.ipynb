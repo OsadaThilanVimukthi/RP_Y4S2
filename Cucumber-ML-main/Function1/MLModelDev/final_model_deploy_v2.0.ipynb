{
 "cells": [
  {
   "cell_type": "markdown",
   "metadata": {},
   "source": [
    "# Final ML Model Deploy v2.0 - Test the Current RF Model"
   ]
  },
  {
   "cell_type": "markdown",
   "metadata": {},
   "source": [
    "### Predicting Highest Income / Highest Income (Harvest) Month / Cultivation Month"
   ]
  },
  {
   "cell_type": "code",
   "execution_count": 47,
   "metadata": {},
   "outputs": [
    {
     "name": "stdout",
     "output_type": "stream",
     "text": [
      "Highest Income Rs: 7998.91\n",
      "Highest Income (Harvest) Month: May - 2024\n",
      "Start Cultivation before the end of: March - 2024\n"
     ]
    }
   ],
   "source": [
    "import joblib\n",
    "import pandas as pd\n",
    "import datetime\n",
    "\n",
    "# Load the Random Forest model, encoder, and scalers\n",
    "rf_model_filename = './fun1/rf_model.pkl'\n",
    "encoder_filename = './fun1/encoder.pkl'\n",
    "scaler_X_filename = './fun1/scaler_X.pkl'\n",
    "scaler_y_filename = './fun1/scaler_y.pkl'\n",
    "\n",
    "rf_model = joblib.load(rf_model_filename)\n",
    "encoder = joblib.load(encoder_filename)\n",
    "scaler_X = joblib.load(scaler_X_filename)\n",
    "scaler_y = joblib.load(scaler_y_filename)\n",
    "\n",
    "# Function to get price predictions\n",
    "def predict_price(year, month, location):\n",
    "    # Create a DataFrame with the user input\n",
    "    input_data = pd.DataFrame({'year': [year], 'month': [month], 'location': [location]})\n",
    "\n",
    "    # Encode location using the loaded encoder\n",
    "    location_encoded = encoder.transform(input_data[['location']])\n",
    "    location_encoded_df = pd.DataFrame(location_encoded, columns=encoder.get_feature_names_out(['location']))\n",
    "    location_encoded_df.columns = location_encoded_df.columns.str.split('_').str[-1]\n",
    "\n",
    "    # Drop the 'location' column and concatenate the encoded 'location' columns\n",
    "    input_data.drop(columns=['location'], inplace=True)\n",
    "    input_data = pd.concat([input_data, location_encoded_df], axis=1)\n",
    "\n",
    "    # Standardize the input data for independent variables (X)\n",
    "    input_data_x = pd.DataFrame(scaler_X.transform(input_data), columns=input_data.columns)\n",
    "\n",
    "    # Make price predictions using the Random Forest model\n",
    "    price_predictions_y = rf_model.predict(input_data_x)\n",
    "\n",
    "    # Inverse transform the predicted values for dependent variables (y) to get them back to their original scale\n",
    "    price_predictions = scaler_y.inverse_transform(price_predictions_y)\n",
    "\n",
    "    return price_predictions\n",
    "\n",
    "# Function to calculate the next 12 months\n",
    "def get_upcoming_months(year, month, num_months):\n",
    "    upcoming_months = []\n",
    "    for _ in range(num_months):\n",
    "        if month == 12:\n",
    "            month = 1\n",
    "            year += 1\n",
    "        else:\n",
    "            month += 1\n",
    "        upcoming_months.append((year, month))\n",
    "    return upcoming_months\n",
    "\n",
    "# User inputs\n",
    "current_date = datetime.date.today()\n",
    "current_year = current_date.year\n",
    "current_month = current_date.month\n",
    "\n",
    "## User input for location and predictions duration\n",
    "location = 'Gampaha'\n",
    "num_months = 6\n",
    "\n",
    "## User input for expected harvest amount (in kg) and retail ratio\n",
    "expected_harvest_amount = 50\n",
    "retail_ratio = 0.6  # Retail ratio of 60%, wholesale is 40%\n",
    "\n",
    "## User input for harvesting duration\n",
    "harvest_duration = 7  # Assuming 7 weeks for harvesting duration\n",
    "\n",
    "\n",
    "# Initialize variables to track highest income\n",
    "highest_income = 0\n",
    "highest_income_month = None\n",
    "\n",
    "# Get predictions for the upcoming months and calculate total predicted income\n",
    "for year, month in get_upcoming_months(current_year, current_month, num_months):\n",
    "    predicted_prices = predict_price(year, month, location)\n",
    "    \n",
    "    # Calculate total predicted income based on expected harvest amount and retail ratio\n",
    "    total_income = (predicted_prices[0][0] * (1 - retail_ratio) + predicted_prices[0][1] * retail_ratio) * expected_harvest_amount\n",
    "    \n",
    "    # Check if the current month has higher income\n",
    "    if total_income > highest_income:\n",
    "        highest_income = total_income\n",
    "        highest_income_month = (year, month)\n",
    "\n",
    "# Calculate the start month for cultivation based on harvesting duration\n",
    "if highest_income_month:\n",
    "    harvest_year, harvest_month = highest_income_month\n",
    "    start_date = datetime.date(harvest_year, harvest_month, 1) - datetime.timedelta(weeks=harvest_duration)\n",
    "    start_month = start_date.month\n",
    "    start_year = start_date.year\n",
    "    \n",
    "    highest_income_str = f\"{highest_income:.2f}\"\n",
    "    highest_income_month_str = f\"{datetime.date(harvest_year, harvest_month, 1).strftime('%B - %Y')}\"\n",
    "    cultivation_start_str = f\"{datetime.date(start_year, start_month, 1).strftime('%B - %Y')}\"\n",
    "\n",
    "    print(f\"Highest Income Rs:\", highest_income_str)\n",
    "    print(f\"Highest Income (Harvest) Month:\", highest_income_month_str)\n",
    "    print(f\"Start Cultivation before the end of:\", cultivation_start_str)\n"
   ]
  },
  {
   "cell_type": "markdown",
   "metadata": {},
   "source": [
    "------------------"
   ]
  },
  {
   "cell_type": "markdown",
   "metadata": {},
   "source": [
    "**You can use this list of locations in the above script for predictions**"
   ]
  },
  {
   "cell_type": "code",
   "execution_count": null,
   "metadata": {},
   "outputs": [],
   "source": [
    "locations = [\n",
    "    'Galle',\n",
    "    'Thissamaharama',\n",
    "    'Rathnapura',\n",
    "    'Gampaha',\n",
    "    'Bandarawela',\n",
    "    'Embilipitiya',\n",
    "    'Veyangoda',\n",
    "    'Meegoda',\n",
    "    'Kurunegala',\n",
    "    'Keppetipola',\n",
    "    'Dehiattakandiya',\n",
    "    'Hambanthota',\n",
    "    'Jaffna',\n",
    "    'Polonnaruwa',\n",
    "    'Nikaweratiya',\n",
    "    'Trinco',\n",
    "    'Kaluthara',\n",
    "    'Badulla',\n",
    "    'Anuradapuraya',\n",
    "    'Vavuniya',\n",
    "    'Matale',\n",
    "    'Mannar',\n",
    "    'Dabulla',\n",
    "    'Mullathivu',\n",
    "    'Kandy',\n",
    "    'Matara',\n",
    "    'Thabuththegama',\n",
    "    'Nuwara Eliya',\n",
    "    'Ampara',\n",
    "    'Monaragala',\n",
    "    'Colombo',\n",
    "    'Hanguranketha',\n",
    "    'Puttalam',\n",
    "    'Batticaloa',\n",
    "    'Kegalle',\n",
    "    'Galenbidunuwewa',\n",
    "    'Kilinochchi'\n",
    "]"
   ]
  }
 ],
 "metadata": {
  "kernelspec": {
   "display_name": "cucumber-dev",
   "language": "python",
   "name": "python3"
  },
  "language_info": {
   "codemirror_mode": {
    "name": "ipython",
    "version": 3
   },
   "file_extension": ".py",
   "mimetype": "text/x-python",
   "name": "python",
   "nbconvert_exporter": "python",
   "pygments_lexer": "ipython3",
   "version": "3.10.13"
  }
 },
 "nbformat": 4,
 "nbformat_minor": 2
}
