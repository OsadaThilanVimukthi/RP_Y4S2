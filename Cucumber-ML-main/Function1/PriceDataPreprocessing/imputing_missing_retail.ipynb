{
 "cells": [
  {
   "cell_type": "markdown",
   "metadata": {},
   "source": [
    "# Data Preprocessing\n",
    "v0.2"
   ]
  },
  {
   "cell_type": "markdown",
   "metadata": {},
   "source": [
    "### Import the required libraries"
   ]
  },
  {
   "cell_type": "code",
   "execution_count": 10,
   "metadata": {},
   "outputs": [],
   "source": [
    "import pandas as pd"
   ]
  },
  {
   "cell_type": "markdown",
   "metadata": {},
   "source": [
    "## Load the dataset"
   ]
  },
  {
   "cell_type": "code",
   "execution_count": 11,
   "metadata": {},
   "outputs": [],
   "source": [
    "data_file = \"./Datasets/imputed_wholesale_retail_part1_dataset.csv\"\n",
    "dataset = pd.read_csv(data_file)"
   ]
  },
  {
   "cell_type": "markdown",
   "metadata": {},
   "source": [
    "## Load the neighbor mapping data"
   ]
  },
  {
   "cell_type": "code",
   "execution_count": 12,
   "metadata": {},
   "outputs": [],
   "source": [
    "neighbor_mapping_file = \"./SriLankaCityMapping/location_list_mapping.csv\"\n",
    "neighbor_mapping = pd.read_csv(neighbor_mapping_file)"
   ]
  },
  {
   "cell_type": "markdown",
   "metadata": {},
   "source": [
    "## Handle Missing Values\n",
    "- The code performs data preprocessing on the dataset by filling missing retail prices using neighboring locations and dropping records with missing retail prices in months where no suitable values can be found.\n",
    "- `imputing_missing_retail.py` Script"
   ]
  },
  {
   "cell_type": "code",
   "execution_count": 13,
   "metadata": {},
   "outputs": [
    {
     "name": "stdout",
     "output_type": "stream",
     "text": [
      "Before Imputation:\n",
      "year                 0\n",
      "month                0\n",
      "location             0\n",
      "wholesale_price    785\n",
      "retail_price       785\n",
      "dtype: int64\n"
     ]
    }
   ],
   "source": [
    "## Count the number of missing values in each column\n",
    "print(\"Before Imputation:\")\n",
    "print(dataset.isnull().sum())"
   ]
  },
  {
   "cell_type": "markdown",
   "metadata": {},
   "source": [
    "### Function to fill missing retail prices using neighbors for each month"
   ]
  },
  {
   "cell_type": "code",
   "execution_count": 14,
   "metadata": {},
   "outputs": [],
   "source": [
    "# Group the data by year and month\n",
    "grouped = dataset.groupby(['year', 'month'])\n",
    "\n",
    "# Function to fill missing retail prices using neighbors for each month\n",
    "def fill_missing_retail_prices_group(group):\n",
    "    for index, row in group.iterrows():\n",
    "        if pd.isnull(row['retail_price']):\n",
    "            location = row['location']\n",
    "        \n",
    "            # Check if there are two neighbor locations with retail prices\n",
    "            neighbors = neighbor_mapping.loc[neighbor_mapping['locations'] == location].values[0][1:3]\n",
    "            for neighbor in neighbors:\n",
    "                neighbor_retail_prices = group.loc[group['location'] == neighbor, 'retail_price']\n",
    "                if not neighbor_retail_prices.isnull().all():\n",
    "                    group.at[index, 'retail_price'] = round(neighbor_retail_prices.mean(), 2)\n",
    "                    break\n",
    "\n",
    "            # If no neighbors with retail prices are found, use an iterative approach\n",
    "            if pd.isnull(group.at[index, 'retail_price']):\n",
    "                for neighbor_column in neighbor_mapping.columns[1:]:\n",
    "                    for neighbor in neighbor_mapping[neighbor_column]:\n",
    "                        neighbor_retail_prices = group.loc[group['location'] == neighbor, 'retail_price']\n",
    "                        if not neighbor_retail_prices.isnull().all():\n",
    "                            group.at[index, 'retail_price'] = round(neighbor_retail_prices.mean(), 2)\n",
    "                            break\n",
    "\n",
    "    return group\n",
    "\n",
    "# Apply the function to fill missing retail prices for each month\n",
    "dataset = grouped.apply(fill_missing_retail_prices_group)\n",
    "\n",
    "# Reset the index\n",
    "dataset.reset_index(drop=True, inplace=True)"
   ]
  },
  {
   "cell_type": "markdown",
   "metadata": {},
   "source": [
    "## After Imputation"
   ]
  },
  {
   "cell_type": "code",
   "execution_count": 15,
   "metadata": {},
   "outputs": [
    {
     "name": "stdout",
     "output_type": "stream",
     "text": [
      "After Imputation:\n",
      "year                 0\n",
      "month                0\n",
      "location             0\n",
      "wholesale_price    785\n",
      "retail_price        37\n",
      "dtype: int64\n"
     ]
    }
   ],
   "source": [
    "# Reload the original dataset to see the difference\n",
    "dataset_original = pd.read_csv(data_file)\n",
    "\n",
    "## Count the number of missing values in each column\n",
    "print(\"After Imputation:\")\n",
    "print(dataset.isnull().sum())"
   ]
  },
  {
   "cell_type": "markdown",
   "metadata": {},
   "source": [
    "## Drop Records"
   ]
  },
  {
   "cell_type": "code",
   "execution_count": 17,
   "metadata": {},
   "outputs": [],
   "source": [
    "## Drop records with missing retail_price in months where no suitable values can be found\n",
    "dataset = dataset.dropna(subset=['retail_price'])\n",
    "\n",
    "# Reset the index\n",
    "dataset.reset_index(drop=True, inplace=True)\n",
    "\n",
    "# Save the dataset with filled missing retail prices and cleaned\n",
    "# dataset.to_csv(\"./Datasets/imputed_wholesale_retail_part2_dataset.csv\", index=False) # Uncomment to save the file"
   ]
  },
  {
   "cell_type": "markdown",
   "metadata": {},
   "source": [
    "## After cleaning"
   ]
  },
  {
   "cell_type": "code",
   "execution_count": 19,
   "metadata": {},
   "outputs": [
    {
     "name": "stdout",
     "output_type": "stream",
     "text": [
      "After Drop Records:\n",
      "year                 0\n",
      "month                0\n",
      "location             0\n",
      "wholesale_price    748\n",
      "retail_price         0\n",
      "dtype: int64\n"
     ]
    }
   ],
   "source": [
    "## Count the number of missing values in each column\n",
    "print(\"After Drop Records:\")\n",
    "print(dataset.isnull().sum())"
   ]
  },
  {
   "cell_type": "markdown",
   "metadata": {},
   "source": [
    "--------------------"
   ]
  }
 ],
 "metadata": {
  "kernelspec": {
   "display_name": "cucumber-dev",
   "language": "python",
   "name": "python3"
  },
  "language_info": {
   "codemirror_mode": {
    "name": "ipython",
    "version": 3
   },
   "file_extension": ".py",
   "mimetype": "text/x-python",
   "name": "python",
   "nbconvert_exporter": "python",
   "pygments_lexer": "ipython3",
   "version": "3.10.13"
  }
 },
 "nbformat": 4,
 "nbformat_minor": 2
}
