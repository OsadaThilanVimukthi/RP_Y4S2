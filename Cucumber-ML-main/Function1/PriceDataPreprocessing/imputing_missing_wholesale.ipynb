{
 "cells": [
  {
   "cell_type": "markdown",
   "metadata": {},
   "source": [
    "# Data Preprocessing \n",
    "v0.3"
   ]
  },
  {
   "cell_type": "markdown",
   "metadata": {},
   "source": [
    "### Import the required libraries"
   ]
  },
  {
   "cell_type": "code",
   "execution_count": 7,
   "metadata": {},
   "outputs": [],
   "source": [
    "import pandas as pd"
   ]
  },
  {
   "cell_type": "markdown",
   "metadata": {},
   "source": [
    "## Load the dataset"
   ]
  },
  {
   "cell_type": "code",
   "execution_count": 8,
   "metadata": {},
   "outputs": [],
   "source": [
    "data_file = \"./Datasets/imputed_wholesale_retail_part2_dataset.csv\"\n",
    "dataset = pd.read_csv(data_file)"
   ]
  },
  {
   "cell_type": "markdown",
   "metadata": {},
   "source": [
    "#### Display the first few rows of the dataset to get an overview"
   ]
  },
  {
   "cell_type": "code",
   "execution_count": 9,
   "metadata": {},
   "outputs": [
    {
     "name": "stdout",
     "output_type": "stream",
     "text": [
      "   year  month     location  wholesale_price  retail_price\n",
      "0  2017      1  Keppetipola            45.42          98.0\n",
      "1  2017      1   Kurunegala              NaN         103.0\n",
      "2  2017      1       Ampara            73.91         124.8\n",
      "3  2017      1       Matale              NaN         116.4\n",
      "4  2017      1     Vavuniya            46.19          78.0\n"
     ]
    }
   ],
   "source": [
    "print(dataset.head())"
   ]
  },
  {
   "cell_type": "markdown",
   "metadata": {},
   "source": [
    "## Handle Missing Values\n",
    "- The code performs data preprocessing on the dataset by handling missing wholesale_price values and filling them using the mean percentage difference between wholesale and retail prices for each month.\n",
    "- `imputing_missing_wholesale.py` Script"
   ]
  },
  {
   "cell_type": "code",
   "execution_count": 10,
   "metadata": {},
   "outputs": [
    {
     "name": "stdout",
     "output_type": "stream",
     "text": [
      "Before Imputation:\n",
      "year                 0\n",
      "month                0\n",
      "location             0\n",
      "wholesale_price    748\n",
      "retail_price         0\n",
      "dtype: int64\n"
     ]
    }
   ],
   "source": [
    "## Count the number of missing values in each column\n",
    "print(\"Before Imputation:\")\n",
    "print(dataset.isnull().sum())"
   ]
  },
  {
   "cell_type": "code",
   "execution_count": 11,
   "metadata": {},
   "outputs": [],
   "source": [
    "# Define a function to calculate the percentage difference\n",
    "def calculate_percentage_difference(group):\n",
    "    wholesale_price = group['wholesale_price']\n",
    "    retail_price = group['retail_price']\n",
    "    \n",
    "    # Calculate percentage difference only if both prices are available\n",
    "    if not pd.isnull(wholesale_price).all() and not pd.isnull(retail_price).all():\n",
    "        return ((retail_price - wholesale_price) / wholesale_price).mean()\n",
    "    return None\n",
    "\n",
    "# Group the data by year and month\n",
    "grouped = dataset.groupby(['year', 'month'])\n",
    "\n",
    "# Calculate the mean percentage difference for each month\n",
    "mean_percentage_differences = grouped.apply(calculate_percentage_difference)\n",
    "\n",
    "# Fill missing values based on the calculated mean percentage differences\n",
    "for index, row in dataset.iterrows():\n",
    "    if pd.isnull(row['wholesale_price']) and not pd.isnull(row['retail_price']):\n",
    "        # Fill missing wholesale_price using the mean percentage difference for the month\n",
    "        month = row['month']\n",
    "        dataset.at[index, 'wholesale_price'] = round(row['retail_price'] / (1 + mean_percentage_differences.get((row['year'], month), 0)), 2)\n",
    "\n",
    "# Save the dataset with filled missing values\n",
    "# dataset.to_csv(\"./Datasets/final_wholesale_retail_dataset_v0.0.csv\", index=False) # Uncomment to save the file\n",
    "\n",
    "# Reload the original dataset to see the difference\n",
    "dataset_original = pd.read_csv(data_file)"
   ]
  },
  {
   "cell_type": "markdown",
   "metadata": {},
   "source": [
    "## After Imputation"
   ]
  },
  {
   "cell_type": "code",
   "execution_count": 13,
   "metadata": {},
   "outputs": [
    {
     "name": "stdout",
     "output_type": "stream",
     "text": [
      "After Imputation:\n",
      "year               0\n",
      "month              0\n",
      "location           0\n",
      "wholesale_price    0\n",
      "retail_price       0\n",
      "dtype: int64\n"
     ]
    }
   ],
   "source": [
    "## Count the number of missing values in each column\n",
    "print(\"After Imputation:\")\n",
    "print(dataset.isnull().sum())"
   ]
  },
  {
   "cell_type": "markdown",
   "metadata": {},
   "source": [
    "**Note: Handle Missing Values - Completed**\n",
    "\n",
    "--------------------"
   ]
  }
 ],
 "metadata": {
  "kernelspec": {
   "display_name": "cucumber-dev",
   "language": "python",
   "name": "python3"
  },
  "language_info": {
   "codemirror_mode": {
    "name": "ipython",
    "version": 3
   },
   "file_extension": ".py",
   "mimetype": "text/x-python",
   "name": "python",
   "nbconvert_exporter": "python",
   "pygments_lexer": "ipython3",
   "version": "3.10.13"
  }
 },
 "nbformat": 4,
 "nbformat_minor": 2
}
