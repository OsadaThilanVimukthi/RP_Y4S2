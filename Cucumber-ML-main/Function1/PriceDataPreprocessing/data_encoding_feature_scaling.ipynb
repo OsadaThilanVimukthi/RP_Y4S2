{
 "cells": [
  {
   "cell_type": "markdown",
   "metadata": {},
   "source": [
    "# Data Preprocessing - Data Encoding & Feature Scaling\n",
    "v2.0 - The script is performing data preprocessing tasks such as data encoding and feature scaling."
   ]
  },
  {
   "cell_type": "markdown",
   "metadata": {},
   "source": [
    "### Import the required libraries"
   ]
  },
  {
   "cell_type": "code",
   "execution_count": 8,
   "metadata": {},
   "outputs": [],
   "source": [
    "import pandas as pd\n",
    "from sklearn.preprocessing import StandardScaler\n",
    "from sklearn.preprocessing import OneHotEncoder"
   ]
  },
  {
   "cell_type": "markdown",
   "metadata": {},
   "source": [
    "## Load the dataset"
   ]
  },
  {
   "cell_type": "code",
   "execution_count": 9,
   "metadata": {},
   "outputs": [],
   "source": [
    "data_file = \"./Datasets/final_wholesale_retail_dataset_v0.0.csv\"\n",
    "dataset = pd.read_csv(data_file)"
   ]
  },
  {
   "cell_type": "markdown",
   "metadata": {},
   "source": [
    "### Display the first few rows of the dataset to get an overview"
   ]
  },
  {
   "cell_type": "code",
   "execution_count": 10,
   "metadata": {},
   "outputs": [
    {
     "name": "stdout",
     "output_type": "stream",
     "text": [
      "   year  month     location  wholesale_price  retail_price\n",
      "0  2017      1  Keppetipola            45.42          98.0\n",
      "1  2017      1   Kurunegala            61.00         103.0\n",
      "2  2017      1       Ampara            73.91         124.8\n",
      "3  2017      1       Matale            68.94         116.4\n",
      "4  2017      1     Vavuniya            46.19          78.0\n"
     ]
    }
   ],
   "source": [
    "print(dataset.head())"
   ]
  },
  {
   "cell_type": "markdown",
   "metadata": {},
   "source": [
    "### Separate independent (X) and dependent (y) variables"
   ]
  },
  {
   "cell_type": "code",
   "execution_count": 11,
   "metadata": {},
   "outputs": [],
   "source": [
    "X = dataset.iloc[:, :-2]  # Select all columns except the last two\n",
    "y = dataset.iloc[:, -2:]  # Select the last two columns"
   ]
  },
  {
   "cell_type": "markdown",
   "metadata": {},
   "source": [
    "### Display the first few rows of X and y"
   ]
  },
  {
   "cell_type": "code",
   "execution_count": 12,
   "metadata": {},
   "outputs": [
    {
     "name": "stdout",
     "output_type": "stream",
     "text": [
      "Independent variables (X):\n",
      "   year  month     location\n",
      "0  2017      1  Keppetipola\n",
      "1  2017      1   Kurunegala\n",
      "2  2017      1       Ampara\n",
      "3  2017      1       Matale\n",
      "4  2017      1     Vavuniya\n",
      "\n",
      "Dependent variables (y):\n",
      "   wholesale_price  retail_price\n",
      "0            45.42          98.0\n",
      "1            61.00         103.0\n",
      "2            73.91         124.8\n",
      "3            68.94         116.4\n",
      "4            46.19          78.0\n"
     ]
    }
   ],
   "source": [
    "print(\"Independent variables (X):\")\n",
    "print(X.head())\n",
    "\n",
    "print(\"\\nDependent variables (y):\")\n",
    "print(y.head())"
   ]
  },
  {
   "cell_type": "markdown",
   "metadata": {},
   "source": [
    "## One-Hot Encoding for the 'location' column"
   ]
  },
  {
   "cell_type": "code",
   "execution_count": 13,
   "metadata": {},
   "outputs": [],
   "source": [
    "# One-Hot Encoding for the 'location' column\n",
    "encoder = OneHotEncoder(sparse_output=False)\n",
    "X_encoded = encoder.fit_transform(X[['location']])\n",
    "X_encoded_df = pd.DataFrame(X_encoded, columns=encoder.get_feature_names_out(['location']))\n",
    "\n",
    "## Simplify header names by keeping only city names\n",
    "X_encoded_df.columns = X_encoded_df.columns.str.split('_').str[-1]\n",
    "X.drop(columns=['location'], inplace=True)  # Drop the original 'location' column\n",
    "X = pd.concat([X, X_encoded_df], axis=1)  # Concatenate the encoded 'location' columns"
   ]
  },
  {
   "cell_type": "markdown",
   "metadata": {},
   "source": [
    "## Standardization"
   ]
  },
  {
   "cell_type": "code",
   "execution_count": 14,
   "metadata": {},
   "outputs": [],
   "source": [
    "scaler = StandardScaler()\n",
    "X = pd.DataFrame(scaler.fit_transform(X), columns=X.columns)\n",
    "y = pd.DataFrame(scaler.fit_transform(y), columns=y.columns)"
   ]
  },
  {
   "cell_type": "markdown",
   "metadata": {},
   "source": [
    "## Display the first few rows of the updated X and y"
   ]
  },
  {
   "cell_type": "code",
   "execution_count": 18,
   "metadata": {},
   "outputs": [
    {
     "name": "stdout",
     "output_type": "stream",
     "text": [
      "Updated Independent variables (X) after encoding and standardization:\n",
      "       year     month    Ampara  Anuradapuraya   Badulla  Bandarawela  \\\n",
      "0 -1.451288 -1.597845 -0.166699      -0.166699 -0.166699    -0.166699   \n",
      "1 -1.451288 -1.597845 -0.166699      -0.166699 -0.166699    -0.166699   \n",
      "2 -1.451288 -1.597845  5.998826      -0.166699 -0.166699    -0.166699   \n",
      "3 -1.451288 -1.597845 -0.166699      -0.166699 -0.166699    -0.166699   \n",
      "4 -1.451288 -1.597845 -0.166699      -0.166699 -0.166699    -0.166699   \n",
      "\n",
      "   Batticaloa   Colombo   Dabulla  Dehiattakandiya  ...  Nikaweratiya  \\\n",
      "0   -0.166699 -0.166699 -0.166699        -0.166699  ...     -0.166699   \n",
      "1   -0.166699 -0.166699 -0.166699        -0.166699  ...     -0.166699   \n",
      "2   -0.166699 -0.166699 -0.166699        -0.166699  ...     -0.166699   \n",
      "3   -0.166699 -0.166699 -0.166699        -0.166699  ...     -0.166699   \n",
      "4   -0.166699 -0.166699 -0.166699        -0.166699  ...     -0.166699   \n",
      "\n",
      "   Nuwara Eliya  Polonnaruwa  Puttalam  Rathnapura  Thabuththegama  \\\n",
      "0     -0.166699    -0.166699 -0.166699   -0.166699       -0.166699   \n",
      "1     -0.166699    -0.166699 -0.166699   -0.166699       -0.166699   \n",
      "2     -0.166699    -0.166699 -0.166699   -0.166699       -0.166699   \n",
      "3     -0.166699    -0.166699 -0.166699   -0.166699       -0.166699   \n",
      "4     -0.166699    -0.166699 -0.166699   -0.166699       -0.166699   \n",
      "\n",
      "   Thissamaharama    Trinco  Vavuniya  Veyangoda  \n",
      "0       -0.166699 -0.166699 -0.166699  -0.166699  \n",
      "1       -0.166699 -0.166699 -0.166699  -0.166699  \n",
      "2       -0.166699 -0.166699 -0.166699  -0.166699  \n",
      "3       -0.166699 -0.166699 -0.166699  -0.166699  \n",
      "4       -0.166699 -0.166699  5.998826  -0.166699  \n",
      "\n",
      "[5 rows x 39 columns]\n"
     ]
    }
   ],
   "source": [
    "print(\"Updated Independent variables (X) after encoding and standardization:\")\n",
    "print(X.head())"
   ]
  },
  {
   "cell_type": "code",
   "execution_count": 20,
   "metadata": {},
   "outputs": [
    {
     "name": "stdout",
     "output_type": "stream",
     "text": [
      "Updated Dependent variables (y) after standardization:\n",
      "   wholesale_price  retail_price\n",
      "0        -0.404442     -0.121642\n",
      "1         0.193791      0.018326\n",
      "2         0.689502      0.628584\n",
      "3         0.498667      0.393439\n",
      "4        -0.374876     -0.681512\n"
     ]
    }
   ],
   "source": [
    "print(\"Updated Dependent variables (y) after standardization:\")\n",
    "print(y.head())"
   ]
  },
  {
   "cell_type": "markdown",
   "metadata": {},
   "source": [
    "## Testing inverse transformation for standardization"
   ]
  },
  {
   "cell_type": "code",
   "execution_count": 23,
   "metadata": {},
   "outputs": [],
   "source": [
    "# Inverse transform to get back to the original scale\n",
    "y_original = scaler.inverse_transform(y)"
   ]
  },
  {
   "cell_type": "markdown",
   "metadata": {},
   "source": [
    "----------------"
   ]
  }
 ],
 "metadata": {
  "kernelspec": {
   "display_name": "cucumber-dev",
   "language": "python",
   "name": "python3"
  },
  "language_info": {
   "codemirror_mode": {
    "name": "ipython",
    "version": 3
   },
   "file_extension": ".py",
   "mimetype": "text/x-python",
   "name": "python",
   "nbconvert_exporter": "python",
   "pygments_lexer": "ipython3",
   "version": "3.10.13"
  }
 },
 "nbformat": 4,
 "nbformat_minor": 2
}
