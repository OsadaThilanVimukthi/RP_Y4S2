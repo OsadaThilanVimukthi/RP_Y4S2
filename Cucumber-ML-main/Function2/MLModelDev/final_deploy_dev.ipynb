{
 "cells": [
  {
   "cell_type": "markdown",
   "metadata": {},
   "source": [
    "# Final Deploy Leaf Disease Detection ML Model"
   ]
  },
  {
   "cell_type": "markdown",
   "metadata": {},
   "source": [
    "## VGG16"
   ]
  },
  {
   "cell_type": "markdown",
   "metadata": {},
   "source": [
    "### Loop to check all the images in a directory and print the class label along with the name of each image."
   ]
  },
  {
   "cell_type": "code",
   "execution_count": 3,
   "metadata": {},
   "outputs": [
    {
     "name": "stdout",
     "output_type": "stream",
     "text": [
      "1/1 [==============================] - 0s 210ms/step\n",
      "Image: Fresh Cucumber (11).jpg, Class: Other, Raw Confidence: 1.0, Result: Not a Cucumber\n",
      "1/1 [==============================] - 0s 132ms/step\n",
      "Image: Fresh Cucumber (128).jpg, Class: Other, Raw Confidence: 1.0, Result: Not a Cucumber\n",
      "1/1 [==============================] - 0s 136ms/step\n",
      "Image: Fresh Cucumber (129).jpg, Class: Other, Raw Confidence: 1.0, Result: Not a Cucumber\n",
      "1/1 [==============================] - 0s 110ms/step\n",
      "Image: Fresh Cucumber (162).jpg, Class: Other, Raw Confidence: 1.0, Result: Not a Cucumber\n",
      "1/1 [==============================] - 0s 95ms/step\n",
      "Image: Fresh Cucumber (166).jpg, Class: Other, Raw Confidence: 1.0, Result: Not a Cucumber\n",
      "1/1 [==============================] - 0s 102ms/step\n",
      "Image: Fresh Cucumber (18).jpg, Class: Other, Raw Confidence: 1.0, Result: Not a Cucumber\n",
      "1/1 [==============================] - 0s 93ms/step\n",
      "Image: Fresh Cucumber (2).jpg, Class: Other, Raw Confidence: 1.0, Result: Not a Cucumber\n",
      "1/1 [==============================] - 0s 108ms/step\n",
      "Image: Fresh Cucumber (22).jpg, Class: Other, Raw Confidence: 1.0, Result: Not a Cucumber\n",
      "1/1 [==============================] - 0s 90ms/step\n",
      "Image: Fresh Cucumber (254).jpg, Class: Other, Raw Confidence: 1.0, Result: Not a Cucumber\n",
      "1/1 [==============================] - 0s 99ms/step\n",
      "Image: Fresh Cucumber (257).jpg, Class: Other, Raw Confidence: 1.0, Result: Not a Cucumber\n",
      "1/1 [==============================] - 0s 96ms/step\n",
      "Image: Fresh Cucumber (34).jpg, Class: Other, Raw Confidence: 1.0, Result: Not a Cucumber\n",
      "1/1 [==============================] - 0s 97ms/step\n",
      "Image: Fresh Cucumber (55).jpg, Class: Other, Raw Confidence: 1.0, Result: Not a Cucumber\n",
      "1/1 [==============================] - 0s 97ms/step\n",
      "Image: Fresh Cucumber (59).jpg, Class: Other, Raw Confidence: 1.0, Result: Not a Cucumber\n",
      "1/1 [==============================] - 0s 95ms/step\n",
      "Image: Fresh Cucumber (92).jpg, Class: Other, Raw Confidence: 1.0, Result: Not a Cucumber\n",
      "1/1 [==============================] - 0s 98ms/step\n",
      "Image: Fresh Cucumber (97).jpg, Class: Other, Raw Confidence: 1.0, Result: Not a Cucumber\n"
     ]
    }
   ],
   "source": [
    "import tensorflow as tf\n",
    "import numpy as np\n",
    "from tensorflow import keras\n",
    "from keras.applications.vgg16 import preprocess_input\n",
    "from keras.preprocessing import image\n",
    "import os\n",
    "\n",
    "# Define the directory containing the images\n",
    "image_directory = \"./testing-images/Unseen/\"\n",
    "\n",
    "# List all files in the directory\n",
    "image_files = os.listdir(image_directory)\n",
    "\n",
    "# Load the trained model\n",
    "model = keras.models.load_model(\"./fun2/best_model_v3.h5\")\n",
    "\n",
    "# Define the class labels\n",
    "class_labels = [\"Belly Rot\", \"Fresh Cucumber\"]\n",
    "\n",
    "# Load and preprocess the input image\n",
    "def preprocess_image(image_path, target_size):\n",
    "    img = image.load_img(image_path, target_size=target_size)\n",
    "    img_array = image.img_to_array(img)\n",
    "    img_array = preprocess_input(img_array)\n",
    "    img_array = np.expand_dims(img_array, axis=0)\n",
    "    return img_array\n",
    "\n",
    "# Define a function to make predictions\n",
    "def predict_class(image_path):\n",
    "    img_array = preprocess_image(image_path, target_size=(224, 224))  # Use the same target size as during training\n",
    "    predictions = model.predict(img_array)\n",
    "    class_index = np.argmax(predictions)\n",
    "    class_label = class_labels[class_index]\n",
    "    raw_confidence = predictions[0, class_index]  # Get the raw confidence for the predicted class\n",
    "    return class_label, raw_confidence\n",
    "\n",
    "# Define a function to post-process the prediction\n",
    "def post_process(class_label):\n",
    "    if class_label == \"Fresh Cucumber\":\n",
    "        return \"Cucumber are healthy.\"\n",
    "    else:\n",
    "        return \"Cucumber have a disease.\"\n",
    "\n",
    "# Loop through all image files\n",
    "for image_file in image_files:\n",
    "    image_path = os.path.join(image_directory, image_file)\n",
    "    class_label, raw_confidence = predict_class(image_path)\n",
    "    result = post_process(class_label)\n",
    "    print(f\"Image: {image_file}, Class: {class_label}, Raw Confidence: {raw_confidence}, Result: {result}\")\n"
   ]
  },
  {
   "cell_type": "markdown",
   "metadata": {},
   "source": [
    "-----------"
   ]
  }
 ],
 "metadata": {
  "kernelspec": {
   "display_name": "cucumber-dev",
   "language": "python",
   "name": "python3"
  },
  "language_info": {
   "codemirror_mode": {
    "name": "ipython",
    "version": 3
   },
   "file_extension": ".py",
   "mimetype": "text/x-python",
   "name": "python",
   "nbconvert_exporter": "python",
   "pygments_lexer": "ipython3",
   "version": "3.10.13"
  }
 },
 "nbformat": 4,
 "nbformat_minor": 2
}
