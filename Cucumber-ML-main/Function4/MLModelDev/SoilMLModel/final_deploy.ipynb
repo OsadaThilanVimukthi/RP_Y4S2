{
 "cells": [
  {
   "cell_type": "markdown",
   "metadata": {},
   "source": [
    "# Soil ML Model - Deploy"
   ]
  },
  {
   "cell_type": "code",
   "execution_count": 16,
   "metadata": {},
   "outputs": [
    {
     "name": "stdout",
     "output_type": "stream",
     "text": [
      "The predicted soil condition is: Good\n"
     ]
    }
   ],
   "source": [
    "import pickle\n",
    "import pandas as pd\n",
    "\n",
    "def load_model(model_path):\n",
    "    with open(model_path, 'rb') as model_file:\n",
    "        loaded_model = pickle.load(model_file)\n",
    "    return loaded_model\n",
    "\n",
    "def predict_soil_condition(model, soil_pH, soil_moisture):\n",
    "    \n",
    "    # Divide soil_moisture by 100.0 to match the scale used during training\n",
    "    soil_moisture /= 100.0\n",
    "    \n",
    "    # Create a DataFrame with the input values\n",
    "    input_data = pd.DataFrame({'Soil_pH': [soil_pH], 'Soil_moisture': [soil_moisture]})\n",
    "    \n",
    "    # Make predictions\n",
    "    prediction = model.predict(input_data)\n",
    "    \n",
    "    # Return the predicted result\n",
    "    return \"Good\" if prediction[0] == 1 else \"Bad\"\n",
    "\n",
    "# Specify the path to the saved model\n",
    "model_path = 'soil_rf_model.pkl'\n",
    "\n",
    "# Load the trained model\n",
    "loaded_model = load_model(model_path)\n",
    "\n",
    "# Example usage\n",
    "soil_pH_input = 6.2\n",
    "soil_moisture_input = 80\n",
    "\n",
    "prediction_result = predict_soil_condition(loaded_model, soil_pH_input, soil_moisture_input)\n",
    "\n",
    "print(f\"The predicted soil condition is: {prediction_result}\")"
   ]
  }
 ],
 "metadata": {
  "kernelspec": {
   "display_name": "cucumber-dev",
   "language": "python",
   "name": "python3"
  },
  "language_info": {
   "codemirror_mode": {
    "name": "ipython",
    "version": 3
   },
   "file_extension": ".py",
   "mimetype": "text/x-python",
   "name": "python",
   "nbconvert_exporter": "python",
   "pygments_lexer": "ipython3",
   "version": "3.10.13"
  }
 },
 "nbformat": 4,
 "nbformat_minor": 2
}
