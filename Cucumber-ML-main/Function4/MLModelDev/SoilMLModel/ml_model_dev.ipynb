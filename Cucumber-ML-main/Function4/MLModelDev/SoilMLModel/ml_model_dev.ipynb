{
 "cells": [
  {
   "cell_type": "markdown",
   "metadata": {},
   "source": [
    "# Function 4 - Soil ML Model Development"
   ]
  },
  {
   "cell_type": "code",
   "execution_count": 11,
   "metadata": {},
   "outputs": [],
   "source": [
    "import pandas as pd\n",
    "import numpy as np\n",
    "import matplotlib.pyplot as plt\n",
    "import seaborn as sns"
   ]
  },
  {
   "cell_type": "code",
   "execution_count": 12,
   "metadata": {},
   "outputs": [
    {
     "name": "stdout",
     "output_type": "stream",
     "text": [
      "Initial Dataset Information:\n",
      "<class 'pandas.core.frame.DataFrame'>\n",
      "RangeIndex: 3063 entries, 0 to 3062\n",
      "Data columns (total 20 columns):\n",
      " #   Column                      Non-Null Count  Dtype  \n",
      "---  ------                      --------------  -----  \n",
      " 0   Timestamp                   2309 non-null   object \n",
      " 1   Latitude                    2309 non-null   float64\n",
      " 2   Longitude                   2309 non-null   float64\n",
      " 3   Location                    2309 non-null   object \n",
      " 4   Elvation                    2183 non-null   object \n",
      " 5   Soil_pH                     2309 non-null   float64\n",
      " 6   Soil_moisture               2309 non-null   object \n",
      " 7   Soil_Condition              2309 non-null   object \n",
      " 8   Treatment(pH)/Ton/per/acr)  2301 non-null   object \n",
      " 9   Unnamed: 9                  0 non-null      float64\n",
      " 10  Unnamed: 10                 0 non-null      float64\n",
      " 11  Unnamed: 11                 1 non-null      float64\n",
      " 12  Unnamed: 12                 0 non-null      float64\n",
      " 13  Unnamed: 13                 0 non-null      float64\n",
      " 14  Unnamed: 14                 0 non-null      float64\n",
      " 15  Unnamed: 15                 2 non-null      float64\n",
      " 16  Unnamed: 16                 0 non-null      float64\n",
      " 17  Unnamed: 17                 0 non-null      float64\n",
      " 18  Unnamed: 18                 0 non-null      float64\n",
      " 19  Unnamed: 19                 1 non-null      float64\n",
      "dtypes: float64(14), object(6)\n",
      "memory usage: 478.7+ KB\n",
      "None\n"
     ]
    }
   ],
   "source": [
    "# Define the path to the dataset\n",
    "dataset_path = \"../../DataPreprocessing/Dataset/soil_dataset.csv\"\n",
    "\n",
    "# Load the dataset into a Pandas DataFrame\n",
    "soil_df = pd.read_csv(dataset_path)\n",
    "\n",
    "print(\"Initial Dataset Information:\")\n",
    "print(soil_df.info())"
   ]
  },
  {
   "cell_type": "code",
   "execution_count": 13,
   "metadata": {},
   "outputs": [
    {
     "name": "stdout",
     "output_type": "stream",
     "text": [
      "<class 'pandas.core.frame.DataFrame'>\n",
      "RangeIndex: 3063 entries, 0 to 3062\n",
      "Data columns (total 3 columns):\n",
      " #   Column          Non-Null Count  Dtype  \n",
      "---  ------          --------------  -----  \n",
      " 0   Soil_pH         2309 non-null   float64\n",
      " 1   Soil_moisture   2309 non-null   float64\n",
      " 2   Soil_Condition  2309 non-null   object \n",
      "dtypes: float64(2), object(1)\n",
      "memory usage: 71.9+ KB\n"
     ]
    }
   ],
   "source": [
    "# Drop unnamed columns\n",
    "unnamed_columns = [col for col in soil_df.columns if 'Unnamed' in col]\n",
    "soil_df = soil_df.drop(columns=unnamed_columns, axis=1)\n",
    "\n",
    "# Drop unnecessary columns\n",
    "columns_to_drop = ['Timestamp', 'Latitude', 'Longitude', 'Location', 'Elvation', 'Treatment(pH)/Ton/per/acr)']\n",
    "soil_df = soil_df.drop(columns=columns_to_drop, axis=1)\n",
    "\n",
    "# Remove '%' sign from 'Soil_moisture' and convert to numeric\n",
    "soil_df['Soil_moisture'] = soil_df['Soil_moisture'].str.rstrip('%').astype('float') / 100.0\n",
    "\n",
    "soil_df.info()"
   ]
  },
  {
   "cell_type": "code",
   "execution_count": 14,
   "metadata": {},
   "outputs": [
    {
     "data": {
      "text/plain": [
       "Soil_pH           754\n",
       "Soil_moisture     754\n",
       "Soil_Condition    754\n",
       "dtype: int64"
      ]
     },
     "execution_count": 14,
     "metadata": {},
     "output_type": "execute_result"
    }
   ],
   "source": [
    "soil_df.isnull().sum()"
   ]
  },
  {
   "cell_type": "code",
   "execution_count": 15,
   "metadata": {},
   "outputs": [],
   "source": [
    "# Drop rows with null values\n",
    "soil_df = soil_df.dropna()"
   ]
  },
  {
   "cell_type": "code",
   "execution_count": 16,
   "metadata": {},
   "outputs": [
    {
     "data": {
      "text/plain": [
       "Soil_pH           0\n",
       "Soil_moisture     0\n",
       "Soil_Condition    0\n",
       "dtype: int64"
      ]
     },
     "execution_count": 16,
     "metadata": {},
     "output_type": "execute_result"
    }
   ],
   "source": [
    "soil_df.isnull().sum()"
   ]
  },
  {
   "cell_type": "code",
   "execution_count": 17,
   "metadata": {},
   "outputs": [
    {
     "name": "stdout",
     "output_type": "stream",
     "text": [
      "<class 'pandas.core.frame.DataFrame'>\n",
      "Int64Index: 2309 entries, 0 to 2308\n",
      "Data columns (total 3 columns):\n",
      " #   Column          Non-Null Count  Dtype  \n",
      "---  ------          --------------  -----  \n",
      " 0   Soil_pH         2309 non-null   float64\n",
      " 1   Soil_moisture   2309 non-null   float64\n",
      " 2   Soil_Condition  2309 non-null   object \n",
      "dtypes: float64(2), object(1)\n",
      "memory usage: 72.2+ KB\n"
     ]
    }
   ],
   "source": [
    "soil_df.info()"
   ]
  },
  {
   "cell_type": "code",
   "execution_count": 18,
   "metadata": {},
   "outputs": [],
   "source": [
    "# Create a mapping dictionary\n",
    "soil_condition_mapping = {'Bad': 0, 'Good': 1}\n",
    "\n",
    "# Apply the mapping to the 'Soil_Condition' column\n",
    "soil_df['Soil_Condition'] = soil_df['Soil_Condition'].map(soil_condition_mapping)"
   ]
  },
  {
   "cell_type": "code",
   "execution_count": 19,
   "metadata": {},
   "outputs": [
    {
     "data": {
      "text/html": [
       "<div>\n",
       "<style scoped>\n",
       "    .dataframe tbody tr th:only-of-type {\n",
       "        vertical-align: middle;\n",
       "    }\n",
       "\n",
       "    .dataframe tbody tr th {\n",
       "        vertical-align: top;\n",
       "    }\n",
       "\n",
       "    .dataframe thead th {\n",
       "        text-align: right;\n",
       "    }\n",
       "</style>\n",
       "<table border=\"1\" class=\"dataframe\">\n",
       "  <thead>\n",
       "    <tr style=\"text-align: right;\">\n",
       "      <th></th>\n",
       "      <th>Soil_pH</th>\n",
       "      <th>Soil_moisture</th>\n",
       "      <th>Soil_Condition</th>\n",
       "    </tr>\n",
       "  </thead>\n",
       "  <tbody>\n",
       "    <tr>\n",
       "      <th>0</th>\n",
       "      <td>4.8</td>\n",
       "      <td>0.78</td>\n",
       "      <td>0</td>\n",
       "    </tr>\n",
       "    <tr>\n",
       "      <th>1</th>\n",
       "      <td>6.1</td>\n",
       "      <td>0.50</td>\n",
       "      <td>1</td>\n",
       "    </tr>\n",
       "    <tr>\n",
       "      <th>2</th>\n",
       "      <td>7.3</td>\n",
       "      <td>0.81</td>\n",
       "      <td>0</td>\n",
       "    </tr>\n",
       "    <tr>\n",
       "      <th>3</th>\n",
       "      <td>5.9</td>\n",
       "      <td>0.85</td>\n",
       "      <td>0</td>\n",
       "    </tr>\n",
       "    <tr>\n",
       "      <th>4</th>\n",
       "      <td>3.3</td>\n",
       "      <td>0.83</td>\n",
       "      <td>0</td>\n",
       "    </tr>\n",
       "  </tbody>\n",
       "</table>\n",
       "</div>"
      ],
      "text/plain": [
       "   Soil_pH  Soil_moisture  Soil_Condition\n",
       "0      4.8           0.78               0\n",
       "1      6.1           0.50               1\n",
       "2      7.3           0.81               0\n",
       "3      5.9           0.85               0\n",
       "4      3.3           0.83               0"
      ]
     },
     "execution_count": 19,
     "metadata": {},
     "output_type": "execute_result"
    }
   ],
   "source": [
    "soil_df.head()"
   ]
  },
  {
   "cell_type": "markdown",
   "metadata": {},
   "source": [
    "## Model Development - Random Forest"
   ]
  },
  {
   "cell_type": "code",
   "execution_count": 20,
   "metadata": {},
   "outputs": [],
   "source": [
    "# Import necessary libraries\n",
    "from sklearn.model_selection import train_test_split\n",
    "from sklearn.ensemble import RandomForestClassifier\n",
    "from sklearn.metrics import classification_report, accuracy_score, confusion_matrix\n",
    "import seaborn as sns\n",
    "from sklearn import metrics\n",
    "\n",
    "# Separate features (X) and target variable (y)\n",
    "X = soil_df.drop('Soil_Condition', axis=1)\n",
    "y = soil_df['Soil_Condition']\n",
    "\n",
    "# Split the data into training and testing sets\n",
    "X_train, X_test, y_train, y_test = train_test_split(X, y, test_size=0.1, random_state=42)\n",
    "\n",
    "\n",
    "# Initialize the Random Forest model\n",
    "rf_model = RandomForestClassifier(random_state=42)\n",
    "\n",
    "# Train the model\n",
    "rf_model.fit(X_train, y_train)\n",
    "\n",
    "# Make predictions on the test set\n",
    "y_pred = rf_model.predict(X_test)"
   ]
  },
  {
   "cell_type": "code",
   "execution_count": 29,
   "metadata": {},
   "outputs": [
    {
     "name": "stdout",
     "output_type": "stream",
     "text": [
      "Model Accuracy: 99.57\n",
      "\n",
      "Confusion Matrix:\n",
      "[[135   1]\n",
      " [  0  95]]\n",
      "\n",
      "Classification Report:\n",
      "              precision    recall  f1-score   support\n",
      "\n",
      "           0       1.00      0.99      1.00       136\n",
      "           1       0.99      1.00      0.99        95\n",
      "\n",
      "    accuracy                           1.00       231\n",
      "   macro avg       0.99      1.00      1.00       231\n",
      "weighted avg       1.00      1.00      1.00       231\n",
      "\n"
     ]
    },
    {
     "data": {
      "image/png": "[encoded data removed]",
      "text/plain": [
       "<Figure size 800x600 with 1 Axes>"
      ]
     },
     "metadata": {},
     "output_type": "display_data"
    }
   ],
   "source": [
    "# Evaluate the model\n",
    "accuracy = accuracy_score(y_test, y_pred) * 100\n",
    "conf_matrix = confusion_matrix(y_test, y_pred)\n",
    "classification_rep = classification_report(y_test, y_pred)\n",
    "\n",
    "# Display the results\n",
    "print(f\"Model Accuracy: {accuracy:.2f}\")\n",
    "print(\"\\nConfusion Matrix:\")\n",
    "print(conf_matrix)\n",
    "print(\"\\nClassification Report:\")\n",
    "print(classification_rep)\n",
    "\n",
    "# Plot the confusion matrix\n",
    "plt.figure(figsize=(8, 6))\n",
    "sns.heatmap(conf_matrix, annot=True, fmt='d', cmap='Blues', cbar=False)\n",
    "plt.title('Confusion Matrix')\n",
    "plt.xlabel('Predicted')\n",
    "plt.ylabel('Actual')\n",
    "plt.show()"
   ]
  },
  {
   "cell_type": "code",
   "execution_count": 34,
   "metadata": {},
   "outputs": [
    {
     "name": "stdout",
     "output_type": "stream",
     "text": [
      "Model saved to: soil_rf_model.pkl\n"
     ]
    }
   ],
   "source": [
    "import pickle\n",
    "\n",
    "# Specify the path where you want to save the model\n",
    "model_path_pickle = 'soil_rf_model.pkl'\n",
    "\n",
    "# Save the trained Random Forest model to a file using pickle\n",
    "with open(model_path_pickle, 'wb') as model_file:\n",
    "    pickle.dump(rf_model, model_file)\n",
    "\n",
    "print(f\"Model saved to: {model_path_pickle}\")"
   ]
  }
 ],
 "metadata": {
  "kernelspec": {
   "display_name": "cucumber-dev",
   "language": "python",
   "name": "python3"
  },
  "language_info": {
   "codemirror_mode": {
    "name": "ipython",
    "version": 3
   },
   "file_extension": ".py",
   "mimetype": "text/x-python",
   "name": "python",
   "nbconvert_exporter": "python",
   "pygments_lexer": "ipython3",
   "version": "3.10.13"
  }
 },
 "nbformat": 4,
 "nbformat_minor": 2
}
