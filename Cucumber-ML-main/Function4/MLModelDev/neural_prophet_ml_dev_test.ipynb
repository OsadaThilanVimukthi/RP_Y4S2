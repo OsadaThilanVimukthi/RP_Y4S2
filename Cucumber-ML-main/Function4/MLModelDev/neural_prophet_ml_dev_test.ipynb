{
 "cells": [
  {
   "cell_type": "markdown",
   "metadata": {},
   "source": [
    "# Forecasting Weather with Neural Prophet"
   ]
  },
  {
   "cell_type": "markdown",
   "metadata": {},
   "source": [
    "## Import Dependencies"
   ]
  },
  {
   "cell_type": "code",
   "execution_count": 1,
   "metadata": {},
   "outputs": [],
   "source": [
    "import pandas as pd\n",
    "from neuralprophet import NeuralProphet\n",
    "from matplotlib import pyplot as plt\n",
    "import numpy as np\n",
    "import os"
   ]
  },
  {
   "cell_type": "markdown",
   "metadata": {},
   "source": [
    "## Load the dataset and process data"
   ]
  },
  {
   "cell_type": "code",
   "execution_count": 2,
   "metadata": {},
   "outputs": [
    {
     "name": "stdout",
     "output_type": "stream",
     "text": [
      "Dataset Information:\n",
      "<class 'pandas.core.frame.DataFrame'>\n",
      "RangeIndex: 147480 entries, 0 to 147479\n",
      "Data columns (total 24 columns):\n",
      " #   Column                      Non-Null Count   Dtype  \n",
      "---  ------                      --------------   -----  \n",
      " 0   time                        147480 non-null  object \n",
      " 1   weathercode                 147480 non-null  int64  \n",
      " 2   temperature_2m_max          147480 non-null  float64\n",
      " 3   temperature_2m_min          147480 non-null  float64\n",
      " 4   temperature_2m_mean         147480 non-null  float64\n",
      " 5   apparent_temperature_max    147480 non-null  float64\n",
      " 6   apparent_temperature_min    147480 non-null  float64\n",
      " 7   apparent_temperature_mean   147480 non-null  float64\n",
      " 8   sunrise                     147480 non-null  object \n",
      " 9   sunset                      147480 non-null  object \n",
      " 10  shortwave_radiation_sum     147480 non-null  float64\n",
      " 11  precipitation_sum           147480 non-null  float64\n",
      " 12  rain_sum                    147480 non-null  float64\n",
      " 13  snowfall_sum                147480 non-null  int64  \n",
      " 14  precipitation_hours         147480 non-null  int64  \n",
      " 15  windspeed_10m_max           147480 non-null  float64\n",
      " 16  windgusts_10m_max           147480 non-null  float64\n",
      " 17  winddirection_10m_dominant  147480 non-null  int64  \n",
      " 18  et0_fao_evapotranspiration  147480 non-null  float64\n",
      " 19  latitude                    147480 non-null  float64\n",
      " 20  longitude                   147480 non-null  float64\n",
      " 21  elevation                   147480 non-null  int64  \n",
      " 22  country                     147480 non-null  object \n",
      " 23  city                        147480 non-null  object \n",
      "dtypes: float64(14), int64(5), object(5)\n",
      "memory usage: 27.0+ MB\n",
      "None\n"
     ]
    }
   ],
   "source": [
    "# Define the path to the dataset\n",
    "dataset_path = \"../DataPreprocessing/Dataset/SriLanka_Weather_Dataset new.csv\"\n",
    "\n",
    "# Load the dataset into a Pandas DataFrame\n",
    "weather_df = pd.read_csv(dataset_path)\n",
    "\n",
    "print(\"Dataset Information:\")\n",
    "print(weather_df.info())"
   ]
  },
  {
   "cell_type": "code",
   "execution_count": 3,
   "metadata": {},
   "outputs": [
    {
     "data": {
      "text/plain": [
       "array(['Colombo', 'Mount Lavinia', 'Kesbewa', 'Moratuwa', 'Maharagama',\n",
       "       'Ratnapura', 'Kandy', 'Negombo', 'Sri Jayewardenepura Kotte',\n",
       "       'Kalmunai', 'Trincomalee', 'Galle', 'Jaffna', 'Athurugiriya',\n",
       "       'Weligama', 'Matara', 'Kolonnawa', 'Gampaha', 'Puttalam',\n",
       "       'Badulla', 'Kalutara', 'Bentota', 'Matale', 'Mannar', 'Pothuhera',\n",
       "       'Kurunegala', 'Mabole', 'Hatton', 'Hambantota', 'Oruwala'],\n",
       "      dtype=object)"
      ]
     },
     "execution_count": 3,
     "metadata": {},
     "output_type": "execute_result"
    }
   ],
   "source": [
    "weather_df.city.unique()"
   ]
  },
  {
   "cell_type": "code",
   "execution_count": 4,
   "metadata": {},
   "outputs": [
    {
     "data": {
      "text/html": [
       "<div>\n",
       "<style scoped>\n",
       "    .dataframe tbody tr th:only-of-type {\n",
       "        vertical-align: middle;\n",
       "    }\n",
       "\n",
       "    .dataframe tbody tr th {\n",
       "        vertical-align: top;\n",
       "    }\n",
       "\n",
       "    .dataframe thead th {\n",
       "        text-align: right;\n",
       "    }\n",
       "</style>\n",
       "<table border=\"1\" class=\"dataframe\">\n",
       "  <thead>\n",
       "    <tr style=\"text-align: right;\">\n",
       "      <th></th>\n",
       "      <th>time</th>\n",
       "      <th>city</th>\n",
       "      <th>weathercode</th>\n",
       "      <th>temperature_2m_max</th>\n",
       "      <th>temperature_2m_min</th>\n",
       "      <th>apparent_temperature_max</th>\n",
       "      <th>apparent_temperature_min</th>\n",
       "      <th>sunrise</th>\n",
       "      <th>sunset</th>\n",
       "      <th>shortwave_radiation_sum</th>\n",
       "      <th>rain_sum</th>\n",
       "      <th>rain_hours</th>\n",
       "      <th>windspeed_10m_max</th>\n",
       "      <th>windgusts_10m_max</th>\n",
       "      <th>winddirection_10m_dominant</th>\n",
       "      <th>et0_fao_evapotranspiration</th>\n",
       "    </tr>\n",
       "  </thead>\n",
       "  <tbody>\n",
       "    <tr>\n",
       "      <th>0</th>\n",
       "      <td>2010-01-01</td>\n",
       "      <td>Colombo</td>\n",
       "      <td>2</td>\n",
       "      <td>30.0</td>\n",
       "      <td>22.7</td>\n",
       "      <td>34.4</td>\n",
       "      <td>25.2</td>\n",
       "      <td>52</td>\n",
       "      <td>755</td>\n",
       "      <td>20.92</td>\n",
       "      <td>0.0</td>\n",
       "      <td>0</td>\n",
       "      <td>11.7</td>\n",
       "      <td>27.4</td>\n",
       "      <td>20</td>\n",
       "      <td>4.58</td>\n",
       "    </tr>\n",
       "    <tr>\n",
       "      <th>1</th>\n",
       "      <td>2010-01-02</td>\n",
       "      <td>Colombo</td>\n",
       "      <td>51</td>\n",
       "      <td>29.9</td>\n",
       "      <td>23.5</td>\n",
       "      <td>33.8</td>\n",
       "      <td>26.2</td>\n",
       "      <td>52</td>\n",
       "      <td>756</td>\n",
       "      <td>17.71</td>\n",
       "      <td>0.1</td>\n",
       "      <td>1</td>\n",
       "      <td>13.0</td>\n",
       "      <td>27.0</td>\n",
       "      <td>24</td>\n",
       "      <td>3.84</td>\n",
       "    </tr>\n",
       "    <tr>\n",
       "      <th>2</th>\n",
       "      <td>2010-01-03</td>\n",
       "      <td>Colombo</td>\n",
       "      <td>51</td>\n",
       "      <td>29.5</td>\n",
       "      <td>23.2</td>\n",
       "      <td>34.3</td>\n",
       "      <td>26.3</td>\n",
       "      <td>53</td>\n",
       "      <td>756</td>\n",
       "      <td>17.76</td>\n",
       "      <td>0.6</td>\n",
       "      <td>3</td>\n",
       "      <td>12.3</td>\n",
       "      <td>27.4</td>\n",
       "      <td>16</td>\n",
       "      <td>3.65</td>\n",
       "    </tr>\n",
       "    <tr>\n",
       "      <th>3</th>\n",
       "      <td>2010-01-04</td>\n",
       "      <td>Colombo</td>\n",
       "      <td>2</td>\n",
       "      <td>28.9</td>\n",
       "      <td>21.9</td>\n",
       "      <td>31.6</td>\n",
       "      <td>23.4</td>\n",
       "      <td>53</td>\n",
       "      <td>757</td>\n",
       "      <td>16.50</td>\n",
       "      <td>0.0</td>\n",
       "      <td>0</td>\n",
       "      <td>17.0</td>\n",
       "      <td>34.6</td>\n",
       "      <td>356</td>\n",
       "      <td>3.79</td>\n",
       "    </tr>\n",
       "    <tr>\n",
       "      <th>4</th>\n",
       "      <td>2010-01-05</td>\n",
       "      <td>Colombo</td>\n",
       "      <td>1</td>\n",
       "      <td>28.1</td>\n",
       "      <td>21.3</td>\n",
       "      <td>30.1</td>\n",
       "      <td>23.1</td>\n",
       "      <td>53</td>\n",
       "      <td>757</td>\n",
       "      <td>23.61</td>\n",
       "      <td>0.0</td>\n",
       "      <td>0</td>\n",
       "      <td>18.7</td>\n",
       "      <td>37.1</td>\n",
       "      <td>355</td>\n",
       "      <td>4.97</td>\n",
       "    </tr>\n",
       "  </tbody>\n",
       "</table>\n",
       "</div>"
      ],
      "text/plain": [
       "        time     city  weathercode  temperature_2m_max  temperature_2m_min  \\\n",
       "0 2010-01-01  Colombo            2                30.0                22.7   \n",
       "1 2010-01-02  Colombo           51                29.9                23.5   \n",
       "2 2010-01-03  Colombo           51                29.5                23.2   \n",
       "3 2010-01-04  Colombo            2                28.9                21.9   \n",
       "4 2010-01-05  Colombo            1                28.1                21.3   \n",
       "\n",
       "   apparent_temperature_max  apparent_temperature_min  sunrise  sunset  \\\n",
       "0                      34.4                      25.2       52     755   \n",
       "1                      33.8                      26.2       52     756   \n",
       "2                      34.3                      26.3       53     756   \n",
       "3                      31.6                      23.4       53     757   \n",
       "4                      30.1                      23.1       53     757   \n",
       "\n",
       "   shortwave_radiation_sum  rain_sum  rain_hours  windspeed_10m_max  \\\n",
       "0                    20.92       0.0           0               11.7   \n",
       "1                    17.71       0.1           1               13.0   \n",
       "2                    17.76       0.6           3               12.3   \n",
       "3                    16.50       0.0           0               17.0   \n",
       "4                    23.61       0.0           0               18.7   \n",
       "\n",
       "   windgusts_10m_max  winddirection_10m_dominant  et0_fao_evapotranspiration  \n",
       "0               27.4                          20                        4.58  \n",
       "1               27.0                          24                        3.84  \n",
       "2               27.4                          16                        3.65  \n",
       "3               34.6                         356                        3.79  \n",
       "4               37.1                         355                        4.97  "
      ]
     },
     "execution_count": 4,
     "metadata": {},
     "output_type": "execute_result"
    }
   ],
   "source": [
    "# Convert 'time' to datetime\n",
    "weather_df['time'] = pd.to_datetime(weather_df['time'])\n",
    "\n",
    "# Convert 'sunrise' and 'sunset' columns to datetime format and extract only time\n",
    "weather_df['sunrise'] = pd.to_datetime(weather_df['sunrise']).dt.time\n",
    "weather_df['sunset'] = pd.to_datetime(weather_df['sunset']).dt.time\n",
    "weather_df['sunrise'] = pd.to_datetime(weather_df['sunrise'], format='%H:%M:%S').dt.hour * 60 + pd.to_datetime(weather_df['sunrise'], format='%H:%M:%S').dt.minute\n",
    "weather_df['sunset'] = pd.to_datetime(weather_df['sunset'], format='%H:%M:%S').dt.hour * 60 + pd.to_datetime(weather_df['sunset'], format='%H:%M:%S').dt.minute\n",
    "\n",
    "# Rename 'precipitation_hours' to 'rain_hours'\n",
    "weather_df.rename(columns={'precipitation_hours': 'rain_hours'}, inplace=True)\n",
    "\n",
    "# Remove unnecessary columns\n",
    "columns_to_remove = ['precipitation_sum', 'snowfall_sum', 'latitude', 'longitude', 'elevation', 'country', 'temperature_2m_mean', 'apparent_temperature_mean']\n",
    "weather_df.drop(columns=columns_to_remove, inplace=True)\n",
    "\n",
    "# Reorder columns\n",
    "column_order = ['time', 'city', 'weathercode', 'temperature_2m_max', 'temperature_2m_min', \n",
    "                'apparent_temperature_max', 'apparent_temperature_min',\n",
    "                'sunrise', 'sunset', 'shortwave_radiation_sum',\n",
    "                'rain_sum', 'rain_hours', 'windspeed_10m_max', 'windgusts_10m_max',\n",
    "                'winddirection_10m_dominant', 'et0_fao_evapotranspiration']\n",
    "\n",
    "# Rearrange columns\n",
    "weather_df = weather_df[column_order]\n",
    "\n",
    "# Display the first few rows of the modified dataset\n",
    "weather_df.head()"
   ]
  },
  {
   "cell_type": "code",
   "execution_count": 5,
   "metadata": {},
   "outputs": [
    {
     "name": "stdout",
     "output_type": "stream",
     "text": [
      "<class 'pandas.core.frame.DataFrame'>\n",
      "RangeIndex: 147480 entries, 0 to 147479\n",
      "Data columns (total 16 columns):\n",
      " #   Column                      Non-Null Count   Dtype         \n",
      "---  ------                      --------------   -----         \n",
      " 0   time                        147480 non-null  datetime64[ns]\n",
      " 1   city                        147480 non-null  object        \n",
      " 2   weathercode                 147480 non-null  int64         \n",
      " 3   temperature_2m_max          147480 non-null  float64       \n",
      " 4   temperature_2m_min          147480 non-null  float64       \n",
      " 5   apparent_temperature_max    147480 non-null  float64       \n",
      " 6   apparent_temperature_min    147480 non-null  float64       \n",
      " 7   sunrise                     147480 non-null  int64         \n",
      " 8   sunset                      147480 non-null  int64         \n",
      " 9   shortwave_radiation_sum     147480 non-null  float64       \n",
      " 10  rain_sum                    147480 non-null  float64       \n",
      " 11  rain_hours                  147480 non-null  int64         \n",
      " 12  windspeed_10m_max           147480 non-null  float64       \n",
      " 13  windgusts_10m_max           147480 non-null  float64       \n",
      " 14  winddirection_10m_dominant  147480 non-null  int64         \n",
      " 15  et0_fao_evapotranspiration  147480 non-null  float64       \n",
      "dtypes: datetime64[ns](1), float64(9), int64(5), object(1)\n",
      "memory usage: 18.0+ MB\n"
     ]
    }
   ],
   "source": [
    "weather_df.info()"
   ]
  },
  {
   "cell_type": "code",
   "execution_count": 6,
   "metadata": {},
   "outputs": [
    {
     "data": {
      "text/plain": [
       "time                          0\n",
       "city                          0\n",
       "weathercode                   0\n",
       "temperature_2m_max            0\n",
       "temperature_2m_min            0\n",
       "apparent_temperature_max      0\n",
       "apparent_temperature_min      0\n",
       "sunrise                       0\n",
       "sunset                        0\n",
       "shortwave_radiation_sum       0\n",
       "rain_sum                      0\n",
       "rain_hours                    0\n",
       "windspeed_10m_max             0\n",
       "windgusts_10m_max             0\n",
       "winddirection_10m_dominant    0\n",
       "et0_fao_evapotranspiration    0\n",
       "dtype: int64"
      ]
     },
     "execution_count": 6,
     "metadata": {},
     "output_type": "execute_result"
    }
   ],
   "source": [
    "weather_df.isnull().sum()"
   ]
  },
  {
   "cell_type": "markdown",
   "metadata": {},
   "source": [
    "## Test the Code"
   ]
  },
  {
   "cell_type": "code",
   "execution_count": 7,
   "metadata": {},
   "outputs": [
    {
     "name": "stderr",
     "output_type": "stream",
     "text": [
      "WARNING - (py.warnings._showwarnmsg) - C:\\Users\\niwar\\AppData\\Local\\Temp\\ipykernel_4052\\1024756041.py:24: SettingWithCopyWarning: \n",
      "A value is trying to be set on a copy of a slice from a DataFrame\n",
      "\n",
      "See the caveats in the documentation: https://pandas.pydata.org/pandas-docs/stable/user_guide/indexing.html#returning-a-view-versus-a-copy\n",
      "  location_data.rename(columns={'time': 'ds', 'temperature_2m_max': 'y_max_temp', 'temperature_2m_min': 'y_min_temp'}, inplace=True)\n",
      "\n",
      "WARNING - (NP.forecaster.fit) - When Global modeling with local normalization, metrics are displayed in normalized scale.\n",
      "INFO - (NP.df_utils._infer_frequency) - Major frequency D corresponds to 99.98% of the data.\n",
      "INFO - (NP.df_utils._infer_frequency) - Defined frequency is equal to major frequency - D\n"
     ]
    },
    {
     "name": "stderr",
     "output_type": "stream",
     "text": [
      "INFO - (NP.config.init_data_params) - Setting normalization to global as only one dataframe provided for training.\n"
     ]
    },
    {
     "name": "stdout",
     "output_type": "stream",
     "text": [
      "Training models for Colombo...\n",
      "Training model for Colombo - y_max_temp...\n"
     ]
    },
    {
     "name": "stderr",
     "output_type": "stream",
     "text": [
      "INFO - (NP.config.set_auto_batch_epoch) - Auto-set batch_size to 32\n",
      "WARNING - (NP.config.set_lr_finder_args) - Learning rate finder: The number of batches (154) is too small than the required number for the learning rate finder (242). The results might not be optimal.\n"
     ]
    },
    {
     "data": {
      "application/vnd.jupyter.widget-view+json": {
       "model_id": "fa6e086243cd4bd7ba9d3a2138e4fbe0",
       "version_major": 2,
       "version_minor": 0
      },
      "text/plain": [
       "Finding best initial lr:   0%|          | 0/242 [00:00<?, ?it/s]"
      ]
     },
     "metadata": {},
     "output_type": "display_data"
    },
    {
     "data": {
      "application/vnd.jupyter.widget-view+json": {
       "model_id": "e2cbb2f0973e4bf6ba5d76de98c69bb9",
       "version_major": 2,
       "version_minor": 0
      },
      "text/plain": [
       "Training: 0it [00:00, ?it/s]"
      ]
     },
     "metadata": {},
     "output_type": "display_data"
    },
    {
     "name": "stderr",
     "output_type": "stream",
     "text": [
      "INFO - (NP.df_utils._infer_frequency) - Major frequency D corresponds to 99.98% of the data.\n",
      "INFO - (NP.df_utils._infer_frequency) - Defined frequency is equal to major frequency - D\n",
      "INFO - (NP.df_utils.return_df_in_original_format) - Returning df with no ID column\n",
      "INFO - (NP.df_utils._infer_frequency) - Major frequency D corresponds to 99.99% of the data.\n",
      "INFO - (NP.df_utils._infer_frequency) - Defined frequency is equal to major frequency - D\n",
      "INFO - (NP.df_utils._infer_frequency) - Major frequency D corresponds to 99.99% of the data.\n",
      "INFO - (NP.df_utils._infer_frequency) - Defined frequency is equal to major frequency - D\n"
     ]
    },
    {
     "data": {
      "application/vnd.jupyter.widget-view+json": {
       "model_id": "bffa0c6c3dd34929a92ff76d5cb5d4ba",
       "version_major": 2,
       "version_minor": 0
      },
      "text/plain": [
       "Predicting: 154it [00:00, ?it/s]"
      ]
     },
     "metadata": {},
     "output_type": "display_data"
    },
    {
     "name": "stderr",
     "output_type": "stream",
     "text": [
      "INFO - (NP.df_utils.return_df_in_original_format) - Returning df with no ID column\n",
      "WARNING - (NP.forecaster.fit) - When Global modeling with local normalization, metrics are displayed in normalized scale.\n",
      "INFO - (NP.df_utils._infer_frequency) - Major frequency D corresponds to 99.98% of the data.\n",
      "INFO - (NP.df_utils._infer_frequency) - Defined frequency is equal to major frequency - D\n",
      "INFO - (NP.config.init_data_params) - Setting normalization to global as only one dataframe provided for training.\n"
     ]
    },
    {
     "name": "stdout",
     "output_type": "stream",
     "text": [
      "Training model for Colombo - y_min_temp...\n"
     ]
    },
    {
     "name": "stderr",
     "output_type": "stream",
     "text": [
      "INFO - (NP.config.set_auto_batch_epoch) - Auto-set batch_size to 32\n",
      "WARNING - (NP.config.set_lr_finder_args) - Learning rate finder: The number of batches (154) is too small than the required number for the learning rate finder (242). The results might not be optimal.\n"
     ]
    },
    {
     "data": {
      "application/vnd.jupyter.widget-view+json": {
       "model_id": "a513096d9f804b0d815986fe0c28f12f",
       "version_major": 2,
       "version_minor": 0
      },
      "text/plain": [
       "Finding best initial lr:   0%|          | 0/242 [00:00<?, ?it/s]"
      ]
     },
     "metadata": {},
     "output_type": "display_data"
    },
    {
     "data": {
      "application/vnd.jupyter.widget-view+json": {
       "model_id": "0432b02588ab475ea090a55060424b49",
       "version_major": 2,
       "version_minor": 0
      },
      "text/plain": [
       "Training: 0it [00:00, ?it/s]"
      ]
     },
     "metadata": {},
     "output_type": "display_data"
    },
    {
     "name": "stderr",
     "output_type": "stream",
     "text": [
      "INFO - (NP.df_utils._infer_frequency) - Major frequency D corresponds to 99.98% of the data.\n",
      "INFO - (NP.df_utils._infer_frequency) - Defined frequency is equal to major frequency - D\n",
      "INFO - (NP.df_utils.return_df_in_original_format) - Returning df with no ID column\n",
      "INFO - (NP.df_utils._infer_frequency) - Major frequency D corresponds to 99.99% of the data.\n",
      "INFO - (NP.df_utils._infer_frequency) - Defined frequency is equal to major frequency - D\n",
      "INFO - (NP.df_utils._infer_frequency) - Major frequency D corresponds to 99.99% of the data.\n",
      "INFO - (NP.df_utils._infer_frequency) - Defined frequency is equal to major frequency - D\n"
     ]
    },
    {
     "data": {
      "application/vnd.jupyter.widget-view+json": {
       "model_id": "0564b688c6894782aee60bfffa4f806c",
       "version_major": 2,
       "version_minor": 0
      },
      "text/plain": [
       "Predicting: 154it [00:00, ?it/s]"
      ]
     },
     "metadata": {},
     "output_type": "display_data"
    },
    {
     "name": "stderr",
     "output_type": "stream",
     "text": [
      "INFO - (NP.df_utils.return_df_in_original_format) - Returning df with no ID column\n",
      "WARNING - (py.warnings._showwarnmsg) - C:\\Users\\niwar\\AppData\\Local\\Temp\\ipykernel_4052\\1024756041.py:24: SettingWithCopyWarning: \n",
      "A value is trying to be set on a copy of a slice from a DataFrame\n",
      "\n",
      "See the caveats in the documentation: https://pandas.pydata.org/pandas-docs/stable/user_guide/indexing.html#returning-a-view-versus-a-copy\n",
      "  location_data.rename(columns={'time': 'ds', 'temperature_2m_max': 'y_max_temp', 'temperature_2m_min': 'y_min_temp'}, inplace=True)\n",
      "\n",
      "WARNING - (NP.forecaster.fit) - When Global modeling with local normalization, metrics are displayed in normalized scale.\n",
      "INFO - (NP.df_utils._infer_frequency) - Major frequency D corresponds to 99.98% of the data.\n",
      "INFO - (NP.df_utils._infer_frequency) - Defined frequency is equal to major frequency - D\n",
      "INFO - (NP.config.init_data_params) - Setting normalization to global as only one dataframe provided for training.\n"
     ]
    },
    {
     "name": "stdout",
     "output_type": "stream",
     "text": [
      "Training models for Mount Lavinia...\n",
      "Training model for Mount Lavinia - y_max_temp...\n"
     ]
    },
    {
     "name": "stderr",
     "output_type": "stream",
     "text": [
      "INFO - (NP.config.set_auto_batch_epoch) - Auto-set batch_size to 32\n",
      "WARNING - (NP.config.set_lr_finder_args) - Learning rate finder: The number of batches (154) is too small than the required number for the learning rate finder (242). The results might not be optimal.\n"
     ]
    },
    {
     "data": {
      "application/vnd.jupyter.widget-view+json": {
       "model_id": "11f77541f9d648cebd1aa591ee31e935",
       "version_major": 2,
       "version_minor": 0
      },
      "text/plain": [
       "Finding best initial lr:   0%|          | 0/242 [00:00<?, ?it/s]"
      ]
     },
     "metadata": {},
     "output_type": "display_data"
    },
    {
     "data": {
      "application/vnd.jupyter.widget-view+json": {
       "model_id": "cf9dd0fa1e2a4072bbdbff9dd154604c",
       "version_major": 2,
       "version_minor": 0
      },
      "text/plain": [
       "Training: 0it [00:00, ?it/s]"
      ]
     },
     "metadata": {},
     "output_type": "display_data"
    },
    {
     "name": "stderr",
     "output_type": "stream",
     "text": [
      "INFO - (NP.df_utils._infer_frequency) - Major frequency D corresponds to 99.98% of the data.\n",
      "INFO - (NP.df_utils._infer_frequency) - Defined frequency is equal to major frequency - D\n",
      "INFO - (NP.df_utils.return_df_in_original_format) - Returning df with no ID column\n",
      "INFO - (NP.df_utils._infer_frequency) - Major frequency D corresponds to 99.99% of the data.\n",
      "INFO - (NP.df_utils._infer_frequency) - Defined frequency is equal to major frequency - D\n",
      "INFO - (NP.df_utils._infer_frequency) - Major frequency D corresponds to 99.99% of the data.\n",
      "INFO - (NP.df_utils._infer_frequency) - Defined frequency is equal to major frequency - D\n"
     ]
    },
    {
     "data": {
      "application/vnd.jupyter.widget-view+json": {
       "model_id": "62b8a46a8f3f4ec48ea1ced85ccf907d",
       "version_major": 2,
       "version_minor": 0
      },
      "text/plain": [
       "Predicting: 154it [00:00, ?it/s]"
      ]
     },
     "metadata": {},
     "output_type": "display_data"
    },
    {
     "name": "stderr",
     "output_type": "stream",
     "text": [
      "INFO - (NP.df_utils.return_df_in_original_format) - Returning df with no ID column\n",
      "WARNING - (NP.forecaster.fit) - When Global modeling with local normalization, metrics are displayed in normalized scale.\n",
      "INFO - (NP.df_utils._infer_frequency) - Major frequency D corresponds to 99.98% of the data.\n",
      "INFO - (NP.df_utils._infer_frequency) - Defined frequency is equal to major frequency - D\n",
      "INFO - (NP.config.init_data_params) - Setting normalization to global as only one dataframe provided for training.\n"
     ]
    },
    {
     "name": "stdout",
     "output_type": "stream",
     "text": [
      "Training model for Mount Lavinia - y_min_temp...\n"
     ]
    },
    {
     "name": "stderr",
     "output_type": "stream",
     "text": [
      "INFO - (NP.config.set_auto_batch_epoch) - Auto-set batch_size to 32\n",
      "WARNING - (NP.config.set_lr_finder_args) - Learning rate finder: The number of batches (154) is too small than the required number for the learning rate finder (242). The results might not be optimal.\n"
     ]
    },
    {
     "data": {
      "application/vnd.jupyter.widget-view+json": {
       "model_id": "71bb6d05b7cd4fa697085f77db5071fc",
       "version_major": 2,
       "version_minor": 0
      },
      "text/plain": [
       "Finding best initial lr:   0%|          | 0/242 [00:00<?, ?it/s]"
      ]
     },
     "metadata": {},
     "output_type": "display_data"
    },
    {
     "data": {
      "application/vnd.jupyter.widget-view+json": {
       "model_id": "8fba60a804204d10bfffb830cb68d145",
       "version_major": 2,
       "version_minor": 0
      },
      "text/plain": [
       "Training: 0it [00:00, ?it/s]"
      ]
     },
     "metadata": {},
     "output_type": "display_data"
    },
    {
     "name": "stderr",
     "output_type": "stream",
     "text": [
      "INFO - (NP.df_utils._infer_frequency) - Major frequency D corresponds to 99.98% of the data.\n",
      "INFO - (NP.df_utils._infer_frequency) - Defined frequency is equal to major frequency - D\n",
      "INFO - (NP.df_utils.return_df_in_original_format) - Returning df with no ID column\n",
      "INFO - (NP.df_utils._infer_frequency) - Major frequency D corresponds to 99.99% of the data.\n",
      "INFO - (NP.df_utils._infer_frequency) - Defined frequency is equal to major frequency - D\n",
      "INFO - (NP.df_utils._infer_frequency) - Major frequency D corresponds to 99.99% of the data.\n",
      "INFO - (NP.df_utils._infer_frequency) - Defined frequency is equal to major frequency - D\n"
     ]
    },
    {
     "data": {
      "application/vnd.jupyter.widget-view+json": {
       "model_id": "533baa976bd643039bc9597e25a9f501",
       "version_major": 2,
       "version_minor": 0
      },
      "text/plain": [
       "Predicting: 154it [00:00, ?it/s]"
      ]
     },
     "metadata": {},
     "output_type": "display_data"
    },
    {
     "name": "stderr",
     "output_type": "stream",
     "text": [
      "INFO - (NP.df_utils.return_df_in_original_format) - Returning df with no ID column\n"
     ]
    }
   ],
   "source": [
    "# Get unique locations\n",
    "locations = weather_df['city'].unique()[:2]  # Use the first two cities for testing\n",
    "\n",
    "# Create main output directory if it doesn't exist\n",
    "output_directory = \"WeatherForecasts\"\n",
    "os.makedirs(output_directory, exist_ok=True)\n",
    "\n",
    "# Initialize location_models and location_forecasts dictionaries\n",
    "location_models = {}\n",
    "location_forecasts = {}\n",
    "\n",
    "# Loop through each location\n",
    "for location in locations:\n",
    "    print(f\"Training models for {location}...\")\n",
    "    \n",
    "    # Create subdirectory for the current location\n",
    "    location_output_directory = os.path.join(output_directory, location)\n",
    "    os.makedirs(location_output_directory, exist_ok=True)\n",
    "    \n",
    "    # Filter data for the specific location\n",
    "    location_data = weather_df[weather_df['city'] == location]\n",
    "    \n",
    "    # Rename columns for NeuralProphet\n",
    "    location_data.rename(columns={'time': 'ds', 'temperature_2m_max': 'y_max_temp', 'temperature_2m_min': 'y_min_temp'}, inplace=True)\n",
    "    \n",
    "    # Initialize models for max and min temperature\n",
    "    target_vars = ['y_max_temp', 'y_min_temp']\n",
    "    \n",
    "    location_models[location] = {}\n",
    "    location_forecasts[location] = {}\n",
    "    \n",
    "    for target_var in target_vars:\n",
    "        print(f\"Training model for {location} - {target_var}...\")\n",
    "        \n",
    "        # Create a new dataframe for the current target variable\n",
    "        target_data = location_data[['ds', target_var]].rename(columns={target_var: 'y'})\n",
    "        \n",
    "        # Initialize and fit the model for the current target variable\n",
    "        model = NeuralProphet(\n",
    "            yearly_seasonality=True,\n",
    "            weekly_seasonality=True,\n",
    "            daily_seasonality=True,  # Adjust based on data\n",
    "        )\n",
    "        model.fit(target_data, freq='D', epochs=100)\n",
    "        \n",
    "        # Save the model for later use\n",
    "        location_models[location][target_var] = model\n",
    "        \n",
    "        # Generate future dataframe\n",
    "        future = model.make_future_dataframe(target_data, periods=10000)  # Adjust the number of periods as needed\n",
    "        \n",
    "        # Make predictions\n",
    "        forecast = model.predict(future)\n",
    "        \n",
    "        # Save the forecast to CSV\n",
    "        forecast.to_csv(os.path.join(location_output_directory, f\"{target_var}_forecast.csv\"), index=False)\n",
    "        \n",
    "        # Save the forecast in the dictionary for later use\n",
    "        location_forecasts[location][target_var] = forecast"
   ]
  },
  {
   "cell_type": "markdown",
   "metadata": {},
   "source": [
    "-----------------\n",
    "-----------------"
   ]
  },
  {
   "cell_type": "code",
   "execution_count": 14,
   "metadata": {},
   "outputs": [
    {
     "name": "stderr",
     "output_type": "stream",
     "text": [
      "INFO - (NP.df_utils._infer_frequency) - Major frequency D corresponds to 99.98% of the data.\n",
      "INFO - (NP.df_utils._infer_frequency) - Defined frequency is equal to major frequency - D\n",
      "INFO - (NP.df_utils.return_df_in_original_format) - Returning df with no ID column\n"
     ]
    },
    {
     "name": "stderr",
     "output_type": "stream",
     "text": [
      "INFO - (NP.df_utils._infer_frequency) - Major frequency D corresponds to 99.992% of the data.\n",
      "INFO - (NP.df_utils._infer_frequency) - Defined frequency is equal to major frequency - D\n",
      "INFO - (NP.df_utils._infer_frequency) - Major frequency D corresponds to 99.992% of the data.\n",
      "INFO - (NP.df_utils._infer_frequency) - Defined frequency is equal to major frequency - D\n"
     ]
    },
    {
     "data": {
      "application/vnd.jupyter.widget-view+json": {
       "model_id": "98aabd9615f445f09ed3cd4888320ff3",
       "version_major": 2,
       "version_minor": 0
      },
      "text/plain": [
       "Predicting: 154it [00:00, ?it/s]"
      ]
     },
     "metadata": {},
     "output_type": "display_data"
    },
    {
     "name": "stderr",
     "output_type": "stream",
     "text": [
      "INFO - (NP.df_utils.return_df_in_original_format) - Returning df with no ID column\n",
      "INFO - (NP.df_utils._infer_frequency) - Major frequency D corresponds to 99.98% of the data.\n",
      "INFO - (NP.df_utils._infer_frequency) - Defined frequency is equal to major frequency - D\n",
      "INFO - (NP.df_utils.return_df_in_original_format) - Returning df with no ID column\n",
      "INFO - (NP.df_utils._infer_frequency) - Major frequency D corresponds to 99.992% of the data.\n",
      "INFO - (NP.df_utils._infer_frequency) - Defined frequency is equal to major frequency - D\n",
      "INFO - (NP.df_utils._infer_frequency) - Major frequency D corresponds to 99.992% of the data.\n",
      "INFO - (NP.df_utils._infer_frequency) - Defined frequency is equal to major frequency - D\n"
     ]
    },
    {
     "data": {
      "application/vnd.jupyter.widget-view+json": {
       "model_id": "60590f0abe6746589965ec7eb17dc4d1",
       "version_major": 2,
       "version_minor": 0
      },
      "text/plain": [
       "Predicting: 154it [00:00, ?it/s]"
      ]
     },
     "metadata": {},
     "output_type": "display_data"
    },
    {
     "name": "stderr",
     "output_type": "stream",
     "text": [
      "INFO - (NP.df_utils.return_df_in_original_format) - Returning df with no ID column\n"
     ]
    },
    {
     "name": "stdout",
     "output_type": "stream",
     "text": [
      "\n",
      "Max Temperature Forecast:\n",
      "              ds     y      yhat1      trend  season_yearly  season_weekly  \\\n",
      "0     2023-06-18  None  28.529854  32.631657      -0.741373      -0.018990   \n",
      "1     2023-06-19  None  28.552145  32.630882      -0.747089       0.009791   \n",
      "2     2023-06-20  None  28.546331  32.630108      -0.752375       0.010038   \n",
      "3     2023-06-21  None  28.533165  32.629333      -0.757303       0.002574   \n",
      "4     2023-06-22  None  28.528572  32.628563      -0.761945       0.003395   \n",
      "...          ...   ...        ...        ...            ...            ...   \n",
      "11996 2056-04-21  None  21.018930  23.349108       1.029601      -0.018337   \n",
      "11997 2056-04-22  None  21.008129  23.348333       0.989707       0.011528   \n",
      "11998 2056-04-23  None  20.936409  23.347561       0.949279      -0.018990   \n",
      "11999 2056-04-24  None  20.923479  23.346786       0.908341       0.009791   \n",
      "12000 2056-04-25  None  20.881529  23.346012       0.866919       0.010038   \n",
      "\n",
      "       season_daily  \n",
      "0          -3.34144  \n",
      "1          -3.34144  \n",
      "2          -3.34144  \n",
      "3          -3.34144  \n",
      "4          -3.34144  \n",
      "...             ...  \n",
      "11996      -3.34144  \n",
      "11997      -3.34144  \n",
      "11998      -3.34144  \n",
      "11999      -3.34144  \n",
      "12000      -3.34144  \n",
      "\n",
      "[12001 rows x 7 columns]\n",
      "\n",
      "Min Temperature Forecast:\n",
      "              ds     y      yhat1      trend  season_yearly  season_weekly  \\\n",
      "0     2023-06-18  None  25.116081  19.026178       0.874320       0.029606   \n",
      "1     2023-06-19  None  25.096645  19.025736       0.862432       0.022499   \n",
      "2     2023-06-20  None  25.059196  19.025295       0.850779      -0.002856   \n",
      "3     2023-06-21  None  25.019842  19.024855       0.839400      -0.030391   \n",
      "4     2023-06-22  None  25.002338  19.024414       0.828329      -0.036381   \n",
      "...          ...   ...        ...        ...            ...            ...   \n",
      "11996 2056-04-21  None  19.746088  13.736296       0.840180      -0.016365   \n",
      "11997 2056-04-22  None  19.808393  13.735855       0.852672       0.033889   \n",
      "11998 2056-04-23  None  19.816126  13.735415       0.865127       0.029606   \n",
      "11999 2056-04-24  None  19.820990  13.734974       0.877540       0.022499   \n",
      "12000 2056-04-25  None  19.807554  13.734532       0.889901      -0.002856   \n",
      "\n",
      "       season_daily  \n",
      "0          5.185977  \n",
      "1          5.185977  \n",
      "2          5.185977  \n",
      "3          5.185977  \n",
      "4          5.185977  \n",
      "...             ...  \n",
      "11996      5.185977  \n",
      "11997      5.185977  \n",
      "11998      5.185977  \n",
      "11999      5.185977  \n",
      "12000      5.185977  \n",
      "\n",
      "[12001 rows x 7 columns]\n"
     ]
    }
   ],
   "source": [
    "# Function to generate future dataframe based on the model and target data\n",
    "def generate_future_dataframe(model, target_data, forecast_date):\n",
    "    # Calculate the number of days between forecast_date and the end date of your data\n",
    "    days_to_forecast = (forecast_date - pd.to_datetime('2023-06-17')).days\n",
    "    \n",
    "    # Generate future dataframe for the entire period until forecast_date\n",
    "    future = model.make_future_dataframe(target_data, periods=days_to_forecast + 12000)\n",
    "    \n",
    "    # Find the index for the forecast_date\n",
    "    forecast_date_index = future[future['ds'] == forecast_date].index[0]\n",
    "    \n",
    "    return future, forecast_date_index\n",
    "\n",
    "\n",
    "# Function to get predictions for a given location and date\n",
    "def get_weather_forecast(location, forecast_date, output_directory=\"WeatherForecasts\"):\n",
    "    # Check if the location and model for the location exist\n",
    "    if location in location_models:\n",
    "        # Check if the model for max temperature exists\n",
    "        if 'y_max_temp' in location_models[location]:\n",
    "            max_temp_model = location_models[location]['y_max_temp']\n",
    "            \n",
    "            # Generate future dataframe for max temperature\n",
    "            future_max_temp, forecast_date_index_max = generate_future_dataframe(max_temp_model, target_data, forecast_date)\n",
    "            \n",
    "            # Make predictions for max temperature starting from the forecast_date\n",
    "            max_temp_forecast = max_temp_model.predict(future_max_temp.loc[forecast_date_index_max:])\n",
    "            \n",
    "            # Save max_temp_forecast to CSV\n",
    "            max_temp_forecast.to_csv(os.path.join(output_directory, f\"{location}_max_temp_forecast.csv\"), index=False)\n",
    "        else:\n",
    "            max_temp_forecast = None  # No model for max temperature\n",
    "        \n",
    "        # Check if the model for min temperature exists\n",
    "        if 'y_min_temp' in location_models[location]:\n",
    "            min_temp_model = location_models[location]['y_min_temp']\n",
    "            \n",
    "            # Generate future dataframe for min temperature\n",
    "            future_min_temp, forecast_date_index_min = generate_future_dataframe(min_temp_model, target_data, forecast_date)\n",
    "            \n",
    "            # Make predictions for min temperature starting from the forecast_date\n",
    "            min_temp_forecast = min_temp_model.predict(future_min_temp.loc[forecast_date_index_min:])\n",
    "            \n",
    "            # Save min_temp_forecast to CSV\n",
    "            min_temp_forecast.to_csv(os.path.join(output_directory, f\"{location}_min_temp_forecast.csv\"), index=False)\n",
    "        else:\n",
    "            min_temp_forecast = None  # No model for min temperature\n",
    "        \n",
    "        # Return the forecasts for max and min temperatures\n",
    "        return max_temp_forecast, min_temp_forecast\n",
    "    \n",
    "    else:\n",
    "        print(f\"No model found for the location: {location}\")\n",
    "        return None, None\n",
    "\n",
    "\n",
    "# Example usage\n",
    "forecast_date = pd.to_datetime('2023-06-18')  # Replace with your desired forecast date\n",
    "location = 'Colombo'  # Replace with your desired location\n",
    "\n",
    "# Create output directory if it doesn't exist\n",
    "output_directory = \"WeatherForecasts\"\n",
    "os.makedirs(output_directory, exist_ok=True)\n",
    "\n",
    "max_temp_forecast, min_temp_forecast = get_weather_forecast(location, forecast_date, output_directory)\n",
    "\n",
    "# Print or use the forecasts as needed\n",
    "print(\"\\nMax Temperature Forecast:\")\n",
    "print(max_temp_forecast)\n",
    "\n",
    "print(\"\\nMin Temperature Forecast:\")\n",
    "print(min_temp_forecast)"
   ]
  },
  {
   "cell_type": "markdown",
   "metadata": {},
   "source": [
    "---------------"
   ]
  },
  {
   "cell_type": "markdown",
   "metadata": {},
   "source": [
    "## Original Code For All Locations and Weather Data"
   ]
  },
  {
   "cell_type": "code",
   "execution_count": null,
   "metadata": {},
   "outputs": [
    {
     "name": "stderr",
     "output_type": "stream",
     "text": [
      "WARNING - (py.warnings._showwarnmsg) - C:\\Users\\niwar\\AppData\\Local\\Temp\\ipykernel_37200\\1192424720.py:16: SettingWithCopyWarning: \n",
      "A value is trying to be set on a copy of a slice from a DataFrame\n",
      "\n",
      "See the caveats in the documentation: https://pandas.pydata.org/pandas-docs/stable/user_guide/indexing.html#returning-a-view-versus-a-copy\n",
      "  location_data.rename(columns={'time': 'ds', 'temperature_2m_max': 'y_max_temp', 'temperature_2m_min': 'y_min_temp',\n",
      "\n",
      "WARNING - (NP.forecaster.fit) - When Global modeling with local normalization, metrics are displayed in normalized scale.\n"
     ]
    },
    {
     "name": "stderr",
     "output_type": "stream",
     "text": [
      "INFO - (NP.df_utils._infer_frequency) - Major frequency D corresponds to 99.98% of the data.\n",
      "INFO - (NP.df_utils._infer_frequency) - Defined frequency is equal to major frequency - D\n",
      "INFO - (NP.config.init_data_params) - Setting normalization to global as only one dataframe provided for training.\n"
     ]
    },
    {
     "name": "stdout",
     "output_type": "stream",
     "text": [
      "Training models for Colombo...\n",
      "Training model for Colombo - y_max_temp...\n"
     ]
    },
    {
     "name": "stderr",
     "output_type": "stream",
     "text": [
      "INFO - (NP.config.set_auto_batch_epoch) - Auto-set batch_size to 32\n",
      "WARNING - (NP.config.set_lr_finder_args) - Learning rate finder: The number of batches (154) is too small than the required number for the learning rate finder (242). The results might not be optimal.\n"
     ]
    },
    {
     "data": {
      "application/vnd.jupyter.widget-view+json": {
       "model_id": "f5a70069ca7a443d9cb55530cf407af5",
       "version_major": 2,
       "version_minor": 0
      },
      "text/plain": [
       "Finding best initial lr:   0%|          | 0/242 [00:00<?, ?it/s]"
      ]
     },
     "metadata": {},
     "output_type": "display_data"
    },
    {
     "data": {
      "application/vnd.jupyter.widget-view+json": {
       "model_id": "420ef38703204193ba336b227c75ab5b",
       "version_major": 2,
       "version_minor": 0
      },
      "text/plain": [
       "Training: 0it [00:00, ?it/s]"
      ]
     },
     "metadata": {},
     "output_type": "display_data"
    },
    {
     "name": "stderr",
     "output_type": "stream",
     "text": [
      "INFO - (NP.df_utils._infer_frequency) - Major frequency D corresponds to 99.98% of the data.\n",
      "INFO - (NP.df_utils._infer_frequency) - Defined frequency is equal to major frequency - D\n",
      "INFO - (NP.df_utils.return_df_in_original_format) - Returning df with no ID column\n",
      "INFO - (NP.df_utils._infer_frequency) - Major frequency D corresponds to 99.726% of the data.\n",
      "INFO - (NP.df_utils._infer_frequency) - Defined frequency is equal to major frequency - D\n",
      "INFO - (NP.df_utils._infer_frequency) - Major frequency D corresponds to 99.726% of the data.\n",
      "INFO - (NP.df_utils._infer_frequency) - Defined frequency is equal to major frequency - D\n"
     ]
    },
    {
     "data": {
      "application/vnd.jupyter.widget-view+json": {
       "model_id": "9dd59c8c64e7440491830dc757213077",
       "version_major": 2,
       "version_minor": 0
      },
      "text/plain": [
       "Predicting: 154it [00:00, ?it/s]"
      ]
     },
     "metadata": {},
     "output_type": "display_data"
    },
    {
     "name": "stderr",
     "output_type": "stream",
     "text": [
      "INFO - (NP.df_utils.return_df_in_original_format) - Returning df with no ID column\n",
      "WARNING - (NP.forecaster.fit) - When Global modeling with local normalization, metrics are displayed in normalized scale.\n"
     ]
    },
    {
     "name": "stdout",
     "output_type": "stream",
     "text": [
      "Training model for Colombo - y_min_temp...\n"
     ]
    },
    {
     "name": "stderr",
     "output_type": "stream",
     "text": [
      "INFO - (NP.df_utils._infer_frequency) - Major frequency D corresponds to 99.98% of the data.\n",
      "INFO - (NP.df_utils._infer_frequency) - Defined frequency is equal to major frequency - D\n",
      "INFO - (NP.config.init_data_params) - Setting normalization to global as only one dataframe provided for training.\n",
      "INFO - (NP.config.set_auto_batch_epoch) - Auto-set batch_size to 32\n",
      "WARNING - (NP.config.set_lr_finder_args) - Learning rate finder: The number of batches (154) is too small than the required number for the learning rate finder (242). The results might not be optimal.\n"
     ]
    },
    {
     "data": {
      "application/vnd.jupyter.widget-view+json": {
       "model_id": "0c68673eda6944f6a9f001e5298648bc",
       "version_major": 2,
       "version_minor": 0
      },
      "text/plain": [
       "Finding best initial lr:   0%|          | 0/242 [00:00<?, ?it/s]"
      ]
     },
     "metadata": {},
     "output_type": "display_data"
    },
    {
     "data": {
      "application/vnd.jupyter.widget-view+json": {
       "model_id": "29123e6412a542b29975773abe382bc5",
       "version_major": 2,
       "version_minor": 0
      },
      "text/plain": [
       "Training: 0it [00:00, ?it/s]"
      ]
     },
     "metadata": {},
     "output_type": "display_data"
    },
    {
     "name": "stderr",
     "output_type": "stream",
     "text": [
      "INFO - (NP.df_utils._infer_frequency) - Major frequency D corresponds to 99.98% of the data.\n",
      "INFO - (NP.df_utils._infer_frequency) - Defined frequency is equal to major frequency - D\n",
      "INFO - (NP.df_utils.return_df_in_original_format) - Returning df with no ID column\n",
      "INFO - (NP.df_utils._infer_frequency) - Major frequency D corresponds to 99.726% of the data.\n",
      "INFO - (NP.df_utils._infer_frequency) - Defined frequency is equal to major frequency - D\n",
      "INFO - (NP.df_utils._infer_frequency) - Major frequency D corresponds to 99.726% of the data.\n",
      "INFO - (NP.df_utils._infer_frequency) - Defined frequency is equal to major frequency - D\n"
     ]
    },
    {
     "data": {
      "application/vnd.jupyter.widget-view+json": {
       "model_id": "8c525ff926994a8bb076d55a8427a5bc",
       "version_major": 2,
       "version_minor": 0
      },
      "text/plain": [
       "Predicting: 154it [00:00, ?it/s]"
      ]
     },
     "metadata": {},
     "output_type": "display_data"
    },
    {
     "name": "stderr",
     "output_type": "stream",
     "text": [
      "INFO - (NP.df_utils.return_df_in_original_format) - Returning df with no ID column\n",
      "WARNING - (NP.forecaster.fit) - When Global modeling with local normalization, metrics are displayed in normalized scale.\n",
      "INFO - (NP.df_utils._infer_frequency) - Major frequency D corresponds to 99.98% of the data.\n",
      "INFO - (NP.df_utils._infer_frequency) - Defined frequency is equal to major frequency - D\n",
      "INFO - (NP.config.init_data_params) - Setting normalization to global as only one dataframe provided for training.\n"
     ]
    },
    {
     "name": "stdout",
     "output_type": "stream",
     "text": [
      "Training model for Colombo - y_apparent_max_temp...\n"
     ]
    },
    {
     "name": "stderr",
     "output_type": "stream",
     "text": [
      "INFO - (NP.config.set_auto_batch_epoch) - Auto-set batch_size to 32\n",
      "WARNING - (NP.config.set_lr_finder_args) - Learning rate finder: The number of batches (154) is too small than the required number for the learning rate finder (242). The results might not be optimal.\n"
     ]
    },
    {
     "data": {
      "application/vnd.jupyter.widget-view+json": {
       "model_id": "17c9ed5f985446c0a43e5d007f9baaf4",
       "version_major": 2,
       "version_minor": 0
      },
      "text/plain": [
       "Finding best initial lr:   0%|          | 0/242 [00:00<?, ?it/s]"
      ]
     },
     "metadata": {},
     "output_type": "display_data"
    },
    {
     "data": {
      "application/vnd.jupyter.widget-view+json": {
       "model_id": "2d020d49aa87473f84d2948ba9edcc30",
       "version_major": 2,
       "version_minor": 0
      },
      "text/plain": [
       "Training: 0it [00:00, ?it/s]"
      ]
     },
     "metadata": {},
     "output_type": "display_data"
    },
    {
     "name": "stderr",
     "output_type": "stream",
     "text": [
      "INFO - (NP.df_utils._infer_frequency) - Major frequency D corresponds to 99.98% of the data.\n",
      "INFO - (NP.df_utils._infer_frequency) - Defined frequency is equal to major frequency - D\n",
      "INFO - (NP.df_utils.return_df_in_original_format) - Returning df with no ID column\n",
      "INFO - (NP.df_utils._infer_frequency) - Major frequency D corresponds to 99.726% of the data.\n",
      "INFO - (NP.df_utils._infer_frequency) - Defined frequency is equal to major frequency - D\n",
      "INFO - (NP.df_utils._infer_frequency) - Major frequency D corresponds to 99.726% of the data.\n",
      "INFO - (NP.df_utils._infer_frequency) - Defined frequency is equal to major frequency - D\n"
     ]
    },
    {
     "data": {
      "application/vnd.jupyter.widget-view+json": {
       "model_id": "f7a9530cce554524a49e1430724f1973",
       "version_major": 2,
       "version_minor": 0
      },
      "text/plain": [
       "Predicting: 154it [00:00, ?it/s]"
      ]
     },
     "metadata": {},
     "output_type": "display_data"
    },
    {
     "name": "stderr",
     "output_type": "stream",
     "text": [
      "INFO - (NP.df_utils.return_df_in_original_format) - Returning df with no ID column\n",
      "WARNING - (NP.forecaster.fit) - When Global modeling with local normalization, metrics are displayed in normalized scale.\n",
      "INFO - (NP.df_utils._infer_frequency) - Major frequency D corresponds to 99.98% of the data.\n",
      "INFO - (NP.df_utils._infer_frequency) - Defined frequency is equal to major frequency - D\n",
      "INFO - (NP.config.init_data_params) - Setting normalization to global as only one dataframe provided for training.\n"
     ]
    },
    {
     "name": "stdout",
     "output_type": "stream",
     "text": [
      "Training model for Colombo - y_apparent_min_temp...\n"
     ]
    },
    {
     "name": "stderr",
     "output_type": "stream",
     "text": [
      "INFO - (NP.config.set_auto_batch_epoch) - Auto-set batch_size to 32\n",
      "WARNING - (NP.config.set_lr_finder_args) - Learning rate finder: The number of batches (154) is too small than the required number for the learning rate finder (242). The results might not be optimal.\n"
     ]
    },
    {
     "data": {
      "application/vnd.jupyter.widget-view+json": {
       "model_id": "ed8daa41c625469996721669be06b0e0",
       "version_major": 2,
       "version_minor": 0
      },
      "text/plain": [
       "Finding best initial lr:   0%|          | 0/242 [00:00<?, ?it/s]"
      ]
     },
     "metadata": {},
     "output_type": "display_data"
    },
    {
     "data": {
      "application/vnd.jupyter.widget-view+json": {
       "model_id": "729418c19212407b806b897c043c9e0a",
       "version_major": 2,
       "version_minor": 0
      },
      "text/plain": [
       "Training: 0it [00:00, ?it/s]"
      ]
     },
     "metadata": {},
     "output_type": "display_data"
    },
    {
     "name": "stderr",
     "output_type": "stream",
     "text": [
      "INFO - (NP.df_utils._infer_frequency) - Major frequency D corresponds to 99.98% of the data.\n",
      "INFO - (NP.df_utils._infer_frequency) - Defined frequency is equal to major frequency - D\n",
      "INFO - (NP.df_utils.return_df_in_original_format) - Returning df with no ID column\n",
      "INFO - (NP.df_utils._infer_frequency) - Major frequency D corresponds to 99.726% of the data.\n",
      "INFO - (NP.df_utils._infer_frequency) - Defined frequency is equal to major frequency - D\n",
      "INFO - (NP.df_utils._infer_frequency) - Major frequency D corresponds to 99.726% of the data.\n",
      "INFO - (NP.df_utils._infer_frequency) - Defined frequency is equal to major frequency - D\n"
     ]
    },
    {
     "data": {
      "application/vnd.jupyter.widget-view+json": {
       "model_id": "59b0559db5504fdb9e7a966a2c359e11",
       "version_major": 2,
       "version_minor": 0
      },
      "text/plain": [
       "Predicting: 154it [00:00, ?it/s]"
      ]
     },
     "metadata": {},
     "output_type": "display_data"
    },
    {
     "name": "stderr",
     "output_type": "stream",
     "text": [
      "INFO - (NP.df_utils.return_df_in_original_format) - Returning df with no ID column\n",
      "WARNING - (NP.forecaster.fit) - When Global modeling with local normalization, metrics are displayed in normalized scale.\n",
      "INFO - (NP.df_utils._infer_frequency) - Major frequency D corresponds to 99.98% of the data.\n",
      "INFO - (NP.df_utils._infer_frequency) - Defined frequency is equal to major frequency - D\n",
      "INFO - (NP.config.init_data_params) - Setting normalization to global as only one dataframe provided for training.\n"
     ]
    },
    {
     "name": "stdout",
     "output_type": "stream",
     "text": [
      "Training model for Colombo - y_sunrise...\n"
     ]
    },
    {
     "name": "stderr",
     "output_type": "stream",
     "text": [
      "INFO - (NP.config.set_auto_batch_epoch) - Auto-set batch_size to 32\n",
      "WARNING - (NP.config.set_lr_finder_args) - Learning rate finder: The number of batches (154) is too small than the required number for the learning rate finder (242). The results might not be optimal.\n"
     ]
    },
    {
     "data": {
      "application/vnd.jupyter.widget-view+json": {
       "model_id": "b7ae874542274e1f978d3ba55c1e762a",
       "version_major": 2,
       "version_minor": 0
      },
      "text/plain": [
       "Finding best initial lr:   0%|          | 0/242 [00:00<?, ?it/s]"
      ]
     },
     "metadata": {},
     "output_type": "display_data"
    },
    {
     "data": {
      "application/vnd.jupyter.widget-view+json": {
       "model_id": "79d7cd417d2349fe8622ced542563e59",
       "version_major": 2,
       "version_minor": 0
      },
      "text/plain": [
       "Training: 0it [00:00, ?it/s]"
      ]
     },
     "metadata": {},
     "output_type": "display_data"
    },
    {
     "name": "stderr",
     "output_type": "stream",
     "text": [
      "WARNING - (py.warnings._showwarnmsg) - C:\\Users\\niwar\\AppData\\Roaming\\Python\\Python310\\site-packages\\pytorch_lightning\\trainer\\call.py:48: UserWarning: Detected KeyboardInterrupt, attempting graceful shutdown...\n",
      "  rank_zero_warn(\"Detected KeyboardInterrupt, attempting graceful shutdown...\")\n",
      "\n",
      "INFO - (NP.df_utils._infer_frequency) - Major frequency D corresponds to 99.98% of the data.\n",
      "INFO - (NP.df_utils._infer_frequency) - Defined frequency is equal to major frequency - D\n",
      "INFO - (NP.df_utils.return_df_in_original_format) - Returning df with no ID column\n",
      "INFO - (NP.df_utils._infer_frequency) - Major frequency D corresponds to 99.726% of the data.\n",
      "INFO - (NP.df_utils._infer_frequency) - Defined frequency is equal to major frequency - D\n",
      "INFO - (NP.df_utils._infer_frequency) - Major frequency D corresponds to 99.726% of the data.\n",
      "INFO - (NP.df_utils._infer_frequency) - Defined frequency is equal to major frequency - D\n"
     ]
    },
    {
     "data": {
      "application/vnd.jupyter.widget-view+json": {
       "model_id": "69f3edc96e2845e8873fdfe23f3cd1e7",
       "version_major": 2,
       "version_minor": 0
      },
      "text/plain": [
       "Predicting: 137it [00:00, ?it/s]"
      ]
     },
     "metadata": {},
     "output_type": "display_data"
    },
    {
     "name": "stderr",
     "output_type": "stream",
     "text": [
      "INFO - (NP.df_utils.return_df_in_original_format) - Returning df with no ID column\n",
      "WARNING - (NP.forecaster.fit) - When Global modeling with local normalization, metrics are displayed in normalized scale.\n",
      "INFO - (NP.df_utils._infer_frequency) - Major frequency D corresponds to 99.98% of the data.\n",
      "INFO - (NP.df_utils._infer_frequency) - Defined frequency is equal to major frequency - D\n",
      "INFO - (NP.config.init_data_params) - Setting normalization to global as only one dataframe provided for training.\n"
     ]
    },
    {
     "name": "stdout",
     "output_type": "stream",
     "text": [
      "Training model for Colombo - y_sunset...\n"
     ]
    },
    {
     "name": "stderr",
     "output_type": "stream",
     "text": [
      "INFO - (NP.config.set_auto_batch_epoch) - Auto-set batch_size to 32\n",
      "WARNING - (NP.config.set_lr_finder_args) - Learning rate finder: The number of batches (154) is too small than the required number for the learning rate finder (242). The results might not be optimal.\n"
     ]
    },
    {
     "data": {
      "application/vnd.jupyter.widget-view+json": {
       "model_id": "77b24b88198a42eca6fc23db3f8a6477",
       "version_major": 2,
       "version_minor": 0
      },
      "text/plain": [
       "Finding best initial lr:   0%|          | 0/242 [00:00<?, ?it/s]"
      ]
     },
     "metadata": {},
     "output_type": "display_data"
    },
    {
     "data": {
      "application/vnd.jupyter.widget-view+json": {
       "model_id": "108a0c22a61d41ae81ab70143d8d5b99",
       "version_major": 2,
       "version_minor": 0
      },
      "text/plain": [
       "Training: 0it [00:00, ?it/s]"
      ]
     },
     "metadata": {},
     "output_type": "display_data"
    }
   ],
   "source": [
    "# TODO: Need to Update According to the Model Test code\n",
    "\n",
    "# Get unique locations\n",
    "locations = weather_df['city'].unique()\n",
    "\n",
    "# Initialize an empty dictionary to store models and forecasts for each location\n",
    "location_models = {}\n",
    "location_forecasts = {}\n",
    "\n",
    "# Loop through each location\n",
    "for location in locations:\n",
    "    print(f\"Training models for {location}...\")\n",
    "    \n",
    "    # Filter data for the specific location\n",
    "    location_data = weather_df[weather_df['city'] == location]\n",
    "    \n",
    "    # Rename columns for NeuralProphet\n",
    "    location_data.rename(columns={'time': 'ds', 'temperature_2m_max': 'y_max_temp', 'temperature_2m_min': 'y_min_temp',\n",
    "                                    'apparent_temperature_max': 'y_apparent_max_temp', 'apparent_temperature_min': 'y_apparent_min_temp',\n",
    "                                    'rain_sum': 'y_rain_sum', 'rain_hours': 'y_rain_hours',\n",
    "                                    'sunrise': 'y_sunrise', 'sunset': 'y_sunset',\n",
    "                                    'shortwave_radiation_sum': 'y_shortwave_radiation_sum',\n",
    "                                    'windspeed_10m_max': 'y_windspeed_10m_max', 'windgusts_10m_max': 'y_windgusts_10m_max',\n",
    "                                    'winddirection_10m_dominant': 'y_winddirection_10m_dominant',\n",
    "                                    'et0_fao_evapotranspiration': 'y_et0_fao_evapotranspiration'}, inplace=True)\n",
    "    \n",
    "    # Initialize models for each target variable\n",
    "    target_vars = ['y_max_temp', 'y_min_temp', 'y_apparent_max_temp', 'y_apparent_min_temp',\n",
    "                    'y_sunrise', 'y_sunset', 'y_shortwave_radiation_sum', 'y_rain_sum',\n",
    "                    'y_rain_hours', 'y_windspeed_10m_max', 'y_windgusts_10m_max',\n",
    "                    'y_winddirection_10m_dominant', 'y_et0_fao_evapotranspiration']\n",
    "    \n",
    "    location_models[location] = {}\n",
    "    location_forecasts[location] = {}\n",
    "    \n",
    "    for target_var in target_vars:\n",
    "        print(f\"Training model for {location} - {target_var}...\")\n",
    "        \n",
    "        # Create a new dataframe for the current target variable\n",
    "        target_data = location_data[['ds', target_var]].rename(columns={target_var: 'y'})\n",
    "        \n",
    "        # Initialize and fit the model for the current target variable\n",
    "        model = NeuralProphet(\n",
    "            yearly_seasonality=True,\n",
    "            weekly_seasonality=True,\n",
    "            daily_seasonality=True,  # Adjust based on data\n",
    "        )\n",
    "        model.fit(target_data, freq='D', epochs=100)\n",
    "        \n",
    "        # Save the model for later use\n",
    "        location_models[location][target_var] = model\n",
    "        \n",
    "        # Generate future dataframe\n",
    "        future = model.make_future_dataframe(target_data, periods=12000)  # Adjust the number of periods as needed\n",
    "        \n",
    "        # Make predictions\n",
    "        forecast = model.predict(future)\n",
    "        \n",
    "        # Save the forecast\n",
    "        location_forecasts[location][target_var] = forecast"
   ]
  },
  {
   "cell_type": "code",
   "execution_count": null,
   "metadata": {},
   "outputs": [],
   "source": [
    "# Plot the forecasts for each location\n",
    "for location, forecast in location_forecasts.items():\n",
    "    fig = model.plot(forecast)\n",
    "    plt.title(f\"{location} - Weather Forecast\")\n",
    "    plt.show()"
   ]
  }
 ],
 "metadata": {
  "kernelspec": {
   "display_name": "cucumber-dev",
   "language": "python",
   "name": "python3"
  },
  "language_info": {
   "codemirror_mode": {
    "name": "ipython",
    "version": 3
   },
   "file_extension": ".py",
   "mimetype": "text/x-python",
   "name": "python",
   "nbconvert_exporter": "python",
   "pygments_lexer": "ipython3",
   "version": "3.10.13"
  }
 },
 "nbformat": 4,
 "nbformat_minor": 2
}
