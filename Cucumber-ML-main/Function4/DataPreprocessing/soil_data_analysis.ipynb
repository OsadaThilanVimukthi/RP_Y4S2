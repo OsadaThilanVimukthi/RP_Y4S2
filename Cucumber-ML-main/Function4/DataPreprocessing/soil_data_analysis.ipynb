{
 "cells": [
  {
   "cell_type": "markdown",
   "metadata": {},
   "source": [
    "# Soil Dataset Analysis"
   ]
  },
  {
   "cell_type": "code",
   "execution_count": 57,
   "metadata": {},
   "outputs": [],
   "source": [
    "import pandas as pd\n",
    "import numpy as np\n",
    "import matplotlib.pyplot as plt\n",
    "import seaborn as sns"
   ]
  },
  {
   "cell_type": "code",
   "execution_count": 58,
   "metadata": {},
   "outputs": [
    {
     "name": "stdout",
     "output_type": "stream",
     "text": [
      "Initial Dataset Information:\n",
      "<class 'pandas.core.frame.DataFrame'>\n",
      "RangeIndex: 3063 entries, 0 to 3062\n",
      "Data columns (total 20 columns):\n",
      " #   Column                      Non-Null Count  Dtype  \n",
      "---  ------                      --------------  -----  \n",
      " 0   Timestamp                   2309 non-null   object \n",
      " 1   Latitude                    2309 non-null   float64\n",
      " 2   Longitude                   2309 non-null   float64\n",
      " 3   Location                    2309 non-null   object \n",
      " 4   Elvation                    2183 non-null   object \n",
      " 5   Soil_pH                     2309 non-null   float64\n",
      " 6   Soil_moisture               2309 non-null   object \n",
      " 7   Soil_Condition              2309 non-null   object \n",
      " 8   Treatment(pH)/Ton/per/acr)  2301 non-null   object \n",
      " 9   Unnamed: 9                  0 non-null      float64\n",
      " 10  Unnamed: 10                 0 non-null      float64\n",
      " 11  Unnamed: 11                 1 non-null      float64\n",
      " 12  Unnamed: 12                 0 non-null      float64\n",
      " 13  Unnamed: 13                 0 non-null      float64\n",
      " 14  Unnamed: 14                 0 non-null      float64\n",
      " 15  Unnamed: 15                 2 non-null      float64\n",
      " 16  Unnamed: 16                 0 non-null      float64\n",
      " 17  Unnamed: 17                 0 non-null      float64\n",
      " 18  Unnamed: 18                 0 non-null      float64\n",
      " 19  Unnamed: 19                 1 non-null      float64\n",
      "dtypes: float64(14), object(6)\n",
      "memory usage: 478.7+ KB\n",
      "None\n"
     ]
    }
   ],
   "source": [
    "# Define the path to the dataset\n",
    "dataset_path = \"../DataPreprocessing/Dataset/soil_dataset.csv\"\n",
    "\n",
    "# Load the dataset into a Pandas DataFrame\n",
    "soil_df = pd.read_csv(dataset_path)\n",
    "\n",
    "print(\"Initial Dataset Information:\")\n",
    "print(soil_df.info())"
   ]
  },
  {
   "cell_type": "code",
   "execution_count": 59,
   "metadata": {},
   "outputs": [
    {
     "name": "stdout",
     "output_type": "stream",
     "text": [
      "\n",
      "Dataset Information after Dropping Unnamed Columns:\n",
      "<class 'pandas.core.frame.DataFrame'>\n",
      "RangeIndex: 3063 entries, 0 to 3062\n",
      "Data columns (total 9 columns):\n",
      " #   Column                      Non-Null Count  Dtype  \n",
      "---  ------                      --------------  -----  \n",
      " 0   Timestamp                   2309 non-null   object \n",
      " 1   Latitude                    2309 non-null   float64\n",
      " 2   Longitude                   2309 non-null   float64\n",
      " 3   Location                    2309 non-null   object \n",
      " 4   Elvation                    2183 non-null   object \n",
      " 5   Soil_pH                     2309 non-null   float64\n",
      " 6   Soil_moisture               2309 non-null   object \n",
      " 7   Soil_Condition              2309 non-null   object \n",
      " 8   Treatment(pH)/Ton/per/acr)  2301 non-null   object \n",
      "dtypes: float64(3), object(6)\n",
      "memory usage: 215.5+ KB\n",
      "None\n"
     ]
    }
   ],
   "source": [
    "# Drop unnamed columns\n",
    "unnamed_columns = [col for col in soil_df.columns if 'Unnamed' in col]\n",
    "soil_df = soil_df.drop(columns=unnamed_columns, axis=1)\n",
    "\n",
    "# Display the dataset information after dropping unnamed columns\n",
    "print(\"\\nDataset Information after Dropping Unnamed Columns:\")\n",
    "print(soil_df.info())"
   ]
  },
  {
   "cell_type": "code",
   "execution_count": 60,
   "metadata": {},
   "outputs": [
    {
     "name": "stdout",
     "output_type": "stream",
     "text": [
      "\n",
      "Dataset Information after Dropping Unnecessary Columns:\n",
      "<class 'pandas.core.frame.DataFrame'>\n",
      "RangeIndex: 3063 entries, 0 to 3062\n",
      "Data columns (total 3 columns):\n",
      " #   Column          Non-Null Count  Dtype  \n",
      "---  ------          --------------  -----  \n",
      " 0   Soil_pH         2309 non-null   float64\n",
      " 1   Soil_moisture   2309 non-null   object \n",
      " 2   Soil_Condition  2309 non-null   object \n",
      "dtypes: float64(1), object(2)\n",
      "memory usage: 71.9+ KB\n",
      "None\n"
     ]
    }
   ],
   "source": [
    "# Drop unnecessary columns\n",
    "columns_to_drop = ['Timestamp', 'Latitude', 'Longitude', 'Location', 'Elvation', 'Treatment(pH)/Ton/per/acr)']\n",
    "soil_df = soil_df.drop(columns=columns_to_drop, axis=1)\n",
    "\n",
    "# Display the dataset information after dropping unnecessary columns\n",
    "print(\"\\nDataset Information after Dropping Unnecessary Columns:\")\n",
    "print(soil_df.info())"
   ]
  },
  {
   "cell_type": "code",
   "execution_count": 61,
   "metadata": {},
   "outputs": [
    {
     "name": "stdout",
     "output_type": "stream",
     "text": [
      "\n",
      "Dataset Information after Converting 'Soil_moisture' to Numeric:\n",
      "<class 'pandas.core.frame.DataFrame'>\n",
      "RangeIndex: 3063 entries, 0 to 3062\n",
      "Data columns (total 3 columns):\n",
      " #   Column          Non-Null Count  Dtype  \n",
      "---  ------          --------------  -----  \n",
      " 0   Soil_pH         2309 non-null   float64\n",
      " 1   Soil_moisture   2309 non-null   float64\n",
      " 2   Soil_Condition  2309 non-null   object \n",
      "dtypes: float64(2), object(1)\n",
      "memory usage: 71.9+ KB\n",
      "None\n"
     ]
    }
   ],
   "source": [
    "# Remove '%' sign from 'Soil_moisture' and convert to numeric\n",
    "soil_df['Soil_moisture'] = soil_df['Soil_moisture'].str.rstrip('%').astype('float') / 100.0\n",
    "\n",
    "# Display the dataset information after converting 'Soil_moisture' to numeric\n",
    "print(\"\\nDataset Information after Converting 'Soil_moisture' to Numeric:\")\n",
    "print(soil_df.info())"
   ]
  },
  {
   "cell_type": "code",
   "execution_count": 62,
   "metadata": {},
   "outputs": [
    {
     "data": {
      "text/html": [
       "<div>\n",
       "<style scoped>\n",
       "    .dataframe tbody tr th:only-of-type {\n",
       "        vertical-align: middle;\n",
       "    }\n",
       "\n",
       "    .dataframe tbody tr th {\n",
       "        vertical-align: top;\n",
       "    }\n",
       "\n",
       "    .dataframe thead th {\n",
       "        text-align: right;\n",
       "    }\n",
       "</style>\n",
       "<table border=\"1\" class=\"dataframe\">\n",
       "  <thead>\n",
       "    <tr style=\"text-align: right;\">\n",
       "      <th></th>\n",
       "      <th>Soil_pH</th>\n",
       "      <th>Soil_moisture</th>\n",
       "      <th>Soil_Condition</th>\n",
       "    </tr>\n",
       "  </thead>\n",
       "  <tbody>\n",
       "    <tr>\n",
       "      <th>0</th>\n",
       "      <td>4.8</td>\n",
       "      <td>0.78</td>\n",
       "      <td>Bad</td>\n",
       "    </tr>\n",
       "    <tr>\n",
       "      <th>1</th>\n",
       "      <td>6.1</td>\n",
       "      <td>0.50</td>\n",
       "      <td>Good</td>\n",
       "    </tr>\n",
       "    <tr>\n",
       "      <th>2</th>\n",
       "      <td>7.3</td>\n",
       "      <td>0.81</td>\n",
       "      <td>Bad</td>\n",
       "    </tr>\n",
       "    <tr>\n",
       "      <th>3</th>\n",
       "      <td>5.9</td>\n",
       "      <td>0.85</td>\n",
       "      <td>Bad</td>\n",
       "    </tr>\n",
       "    <tr>\n",
       "      <th>4</th>\n",
       "      <td>3.3</td>\n",
       "      <td>0.83</td>\n",
       "      <td>Bad</td>\n",
       "    </tr>\n",
       "  </tbody>\n",
       "</table>\n",
       "</div>"
      ],
      "text/plain": [
       "   Soil_pH  Soil_moisture Soil_Condition\n",
       "0      4.8           0.78            Bad\n",
       "1      6.1           0.50           Good\n",
       "2      7.3           0.81            Bad\n",
       "3      5.9           0.85            Bad\n",
       "4      3.3           0.83            Bad"
      ]
     },
     "execution_count": 62,
     "metadata": {},
     "output_type": "execute_result"
    }
   ],
   "source": [
    "soil_df.head()"
   ]
  },
  {
   "cell_type": "code",
   "execution_count": 63,
   "metadata": {},
   "outputs": [
    {
     "data": {
      "text/plain": [
       "Soil_pH           754\n",
       "Soil_moisture     754\n",
       "Soil_Condition    754\n",
       "dtype: int64"
      ]
     },
     "execution_count": 63,
     "metadata": {},
     "output_type": "execute_result"
    }
   ],
   "source": [
    "soil_df.isnull().sum()"
   ]
  },
  {
   "cell_type": "code",
   "execution_count": 64,
   "metadata": {},
   "outputs": [],
   "source": [
    "# Drop rows with null values\n",
    "soil_df = soil_df.dropna()"
   ]
  },
  {
   "cell_type": "code",
   "execution_count": 65,
   "metadata": {},
   "outputs": [
    {
     "data": {
      "text/plain": [
       "Soil_pH           0\n",
       "Soil_moisture     0\n",
       "Soil_Condition    0\n",
       "dtype: int64"
      ]
     },
     "execution_count": 65,
     "metadata": {},
     "output_type": "execute_result"
    }
   ],
   "source": [
    "soil_df.isnull().sum()"
   ]
  },
  {
   "cell_type": "code",
   "execution_count": 66,
   "metadata": {},
   "outputs": [
    {
     "name": "stdout",
     "output_type": "stream",
     "text": [
      "<class 'pandas.core.frame.DataFrame'>\n",
      "Int64Index: 2309 entries, 0 to 2308\n",
      "Data columns (total 3 columns):\n",
      " #   Column          Non-Null Count  Dtype  \n",
      "---  ------          --------------  -----  \n",
      " 0   Soil_pH         2309 non-null   float64\n",
      " 1   Soil_moisture   2309 non-null   float64\n",
      " 2   Soil_Condition  2309 non-null   object \n",
      "dtypes: float64(2), object(1)\n",
      "memory usage: 72.2+ KB\n"
     ]
    }
   ],
   "source": [
    "soil_df.info()"
   ]
  },
  {
   "cell_type": "code",
   "execution_count": 67,
   "metadata": {},
   "outputs": [
    {
     "data": {
      "image/png": "[encoded data removed]",
      "text/plain": [
       "<Figure size 1500x200 with 2 Axes>"
      ]
     },
     "metadata": {},
     "output_type": "display_data"
    }
   ],
   "source": [
    "# Visualize the distribution of each numerical feature\n",
    "numerical_features = soil_df.select_dtypes(include=[np.number]).columns\n",
    "\n",
    "# Calculate the number of rows and columns needed for subplots\n",
    "num_plots = len(numerical_features)\n",
    "num_rows = (num_plots // 3) + (num_plots % 3 > 0)\n",
    "num_cols = min(num_plots, 3)\n",
    "\n",
    "# Set up subplots\n",
    "fig, axes = plt.subplots(nrows=num_rows, ncols=num_cols, figsize=(15, 2 * num_rows))\n",
    "fig.tight_layout(pad=3.0)\n",
    "\n",
    "# Flatten axes if there's only one numerical feature\n",
    "axes = axes.flatten()\n",
    "\n",
    "for i, feature in enumerate(numerical_features):\n",
    "    sns.histplot(soil_df[feature], ax=axes[i], bins=30, kde=True)\n",
    "    axes[i].set_title(f'Distribution of {feature}')\n",
    "    axes[i].set_xlabel(feature)\n",
    "    axes[i].set_ylabel('Frequency')\n",
    "\n",
    "plt.show()"
   ]
  },
  {
   "cell_type": "code",
   "execution_count": 68,
   "metadata": {},
   "outputs": [
    {
     "data": {
      "text/html": [
       "<div>\n",
       "<style scoped>\n",
       "    .dataframe tbody tr th:only-of-type {\n",
       "        vertical-align: middle;\n",
       "    }\n",
       "\n",
       "    .dataframe tbody tr th {\n",
       "        vertical-align: top;\n",
       "    }\n",
       "\n",
       "    .dataframe thead th {\n",
       "        text-align: right;\n",
       "    }\n",
       "</style>\n",
       "<table border=\"1\" class=\"dataframe\">\n",
       "  <thead>\n",
       "    <tr style=\"text-align: right;\">\n",
       "      <th></th>\n",
       "      <th>Soil_pH</th>\n",
       "      <th>Soil_moisture</th>\n",
       "      <th>Soil_Condition</th>\n",
       "    </tr>\n",
       "  </thead>\n",
       "  <tbody>\n",
       "    <tr>\n",
       "      <th>0</th>\n",
       "      <td>4.8</td>\n",
       "      <td>0.78</td>\n",
       "      <td>Bad</td>\n",
       "    </tr>\n",
       "    <tr>\n",
       "      <th>1</th>\n",
       "      <td>6.1</td>\n",
       "      <td>0.50</td>\n",
       "      <td>Good</td>\n",
       "    </tr>\n",
       "    <tr>\n",
       "      <th>2</th>\n",
       "      <td>7.3</td>\n",
       "      <td>0.81</td>\n",
       "      <td>Bad</td>\n",
       "    </tr>\n",
       "    <tr>\n",
       "      <th>3</th>\n",
       "      <td>5.9</td>\n",
       "      <td>0.85</td>\n",
       "      <td>Bad</td>\n",
       "    </tr>\n",
       "    <tr>\n",
       "      <th>4</th>\n",
       "      <td>3.3</td>\n",
       "      <td>0.83</td>\n",
       "      <td>Bad</td>\n",
       "    </tr>\n",
       "  </tbody>\n",
       "</table>\n",
       "</div>"
      ],
      "text/plain": [
       "   Soil_pH  Soil_moisture Soil_Condition\n",
       "0      4.8           0.78            Bad\n",
       "1      6.1           0.50           Good\n",
       "2      7.3           0.81            Bad\n",
       "3      5.9           0.85            Bad\n",
       "4      3.3           0.83            Bad"
      ]
     },
     "execution_count": 68,
     "metadata": {},
     "output_type": "execute_result"
    }
   ],
   "source": [
    "soil_df.head()"
   ]
  },
  {
   "cell_type": "code",
   "execution_count": 69,
   "metadata": {},
   "outputs": [
    {
     "name": "stdout",
     "output_type": "stream",
     "text": [
      "Unique Values and Counts for Soil_Condition:\n",
      "Bad     1293\n",
      "Good    1016\n",
      "Name: Soil_Condition, dtype: int64\n"
     ]
    }
   ],
   "source": [
    "# Get unique values and their counts for 'Soil_Condition'\n",
    "soil_condition_counts = soil_df['Soil_Condition'].value_counts()\n",
    "\n",
    "# Display the unique values and their counts\n",
    "print(\"Unique Values and Counts for Soil_Condition:\")\n",
    "print(soil_condition_counts)"
   ]
  },
  {
   "cell_type": "code",
   "execution_count": 70,
   "metadata": {},
   "outputs": [
    {
     "data": {
      "text/html": [
       "<div>\n",
       "<style scoped>\n",
       "    .dataframe tbody tr th:only-of-type {\n",
       "        vertical-align: middle;\n",
       "    }\n",
       "\n",
       "    .dataframe tbody tr th {\n",
       "        vertical-align: top;\n",
       "    }\n",
       "\n",
       "    .dataframe thead th {\n",
       "        text-align: right;\n",
       "    }\n",
       "</style>\n",
       "<table border=\"1\" class=\"dataframe\">\n",
       "  <thead>\n",
       "    <tr style=\"text-align: right;\">\n",
       "      <th></th>\n",
       "      <th>Soil_pH</th>\n",
       "      <th>Soil_moisture</th>\n",
       "      <th>Soil_Condition</th>\n",
       "    </tr>\n",
       "  </thead>\n",
       "  <tbody>\n",
       "    <tr>\n",
       "      <th>0</th>\n",
       "      <td>4.8</td>\n",
       "      <td>0.78</td>\n",
       "      <td>0</td>\n",
       "    </tr>\n",
       "    <tr>\n",
       "      <th>1</th>\n",
       "      <td>6.1</td>\n",
       "      <td>0.50</td>\n",
       "      <td>1</td>\n",
       "    </tr>\n",
       "    <tr>\n",
       "      <th>2</th>\n",
       "      <td>7.3</td>\n",
       "      <td>0.81</td>\n",
       "      <td>0</td>\n",
       "    </tr>\n",
       "    <tr>\n",
       "      <th>3</th>\n",
       "      <td>5.9</td>\n",
       "      <td>0.85</td>\n",
       "      <td>0</td>\n",
       "    </tr>\n",
       "    <tr>\n",
       "      <th>4</th>\n",
       "      <td>3.3</td>\n",
       "      <td>0.83</td>\n",
       "      <td>0</td>\n",
       "    </tr>\n",
       "  </tbody>\n",
       "</table>\n",
       "</div>"
      ],
      "text/plain": [
       "   Soil_pH  Soil_moisture  Soil_Condition\n",
       "0      4.8           0.78               0\n",
       "1      6.1           0.50               1\n",
       "2      7.3           0.81               0\n",
       "3      5.9           0.85               0\n",
       "4      3.3           0.83               0"
      ]
     },
     "execution_count": 70,
     "metadata": {},
     "output_type": "execute_result"
    }
   ],
   "source": [
    "# Create a mapping dictionary\n",
    "soil_condition_mapping = {'Bad': 0, 'Good': 1}\n",
    "\n",
    "# Apply the mapping to the 'Soil_Condition' column\n",
    "soil_df['Soil_Condition'] = soil_df['Soil_Condition'].map(soil_condition_mapping)\n",
    "\n",
    "soil_df.head()"
   ]
  },
  {
   "cell_type": "code",
   "execution_count": 71,
   "metadata": {},
   "outputs": [
    {
     "name": "stdout",
     "output_type": "stream",
     "text": [
      "Unique Values and Counts for Soil_Condition:\n",
      "0    1293\n",
      "1    1016\n",
      "Name: Soil_Condition, dtype: int64\n"
     ]
    }
   ],
   "source": [
    "# Get unique values and their counts for 'Soil_Condition'\n",
    "soil_condition_counts = soil_df['Soil_Condition'].value_counts()\n",
    "\n",
    "# Display the unique values and their counts\n",
    "print(\"Unique Values and Counts for Soil_Condition:\")\n",
    "print(soil_condition_counts)"
   ]
  }
 ],
 "metadata": {
  "kernelspec": {
   "display_name": "cucumber-dev",
   "language": "python",
   "name": "python3"
  },
  "language_info": {
   "codemirror_mode": {
    "name": "ipython",
    "version": 3
   },
   "file_extension": ".py",
   "mimetype": "text/x-python",
   "name": "python",
   "nbconvert_exporter": "python",
   "pygments_lexer": "ipython3",
   "version": "3.10.13"
  }
 },
 "nbformat": 4,
 "nbformat_minor": 2
}
