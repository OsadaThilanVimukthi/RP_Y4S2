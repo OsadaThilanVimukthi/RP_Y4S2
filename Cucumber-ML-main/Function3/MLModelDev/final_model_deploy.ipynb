{
 "cells": [
  {
   "cell_type": "markdown",
   "metadata": {},
   "source": [
    "# Final Deploy Leaf Disease Detection ML Model"
   ]
  },
  {
   "cell_type": "markdown",
   "metadata": {},
   "source": [
    "# VGG16"
   ]
  },
  {
   "cell_type": "code",
   "execution_count": 11,
   "metadata": {},
   "outputs": [
    {
     "name": "stdout",
     "output_type": "stream",
     "text": [
      "1/1 [==============================] - 0s 208ms/step\n",
      "Leaves have a disease.\n",
      "Class: downy mildew stage 2\n"
     ]
    }
   ],
   "source": [
    "import tensorflow as tf\n",
    "import numpy as np\n",
    "from tensorflow import keras\n",
    "from keras.applications.vgg16 import preprocess_input\n",
    "from keras.preprocessing import image\n",
    "import os\n",
    "\n",
    "# Load the trained model\n",
    "model = keras.models.load_model(\"./fun3/best_model_v2.0.h5\")\n",
    "\n",
    "# Define the class labels\n",
    "class_labels = [\n",
    "    'Healthy leaves',\n",
    "    'downy mildew stage 1',\n",
    "    'downy mildew stage 2',\n",
    "    'powdery mildew stage 1',\n",
    "    'powdery mildew stage 2'\n",
    "]\n",
    "\n",
    "# Load and preprocess the input image\n",
    "def preprocess_image(image_path, target_size):\n",
    "    img = image.load_img(image_path, target_size=target_size)\n",
    "    img_array = image.img_to_array(img)\n",
    "    img_array = preprocess_input(img_array)\n",
    "    img_array = np.expand_dims(img_array, axis=0)\n",
    "    return img_array\n",
    "\n",
    "# Define a function to make predictions\n",
    "def predict_class(image_path):\n",
    "    img_array = preprocess_image(image_path, target_size=(224, 224))  # Use the same target size as during training\n",
    "    predictions = model.predict(img_array)\n",
    "    class_index = np.argmax(predictions)\n",
    "    class_label = class_labels[class_index]\n",
    "    return class_label\n",
    "\n",
    "# Provide the path to the image you want to classify\n",
    "image_path = \"./testing-images/downy mildew stage 1/IMG_E7399.JPG\"\n",
    "\n",
    "# Get the class label\n",
    "class_label = predict_class(image_path)\n",
    "\n",
    "# Define a function to post-process the prediction\n",
    "def post_process(class_label):\n",
    "    if class_label == \"Healthy leaves\":\n",
    "        return \"Leaves are healthy.\"\n",
    "    else:\n",
    "        return \"Leaves have a disease.\"\n",
    "\n",
    "# Print the results\n",
    "print(post_process(class_label))\n",
    "print(f\"Class: {class_label}\")"
   ]
  }
 ],
 "metadata": {
  "kernelspec": {
   "display_name": "cucumber-dev",
   "language": "python",
   "name": "python3"
  },
  "language_info": {
   "codemirror_mode": {
    "name": "ipython",
    "version": 3
   },
   "file_extension": ".py",
   "mimetype": "text/x-python",
   "name": "python",
   "nbconvert_exporter": "python",
   "pygments_lexer": "ipython3",
   "version": "3.10.13"
  }
 },
 "nbformat": 4,
 "nbformat_minor": 2
}
