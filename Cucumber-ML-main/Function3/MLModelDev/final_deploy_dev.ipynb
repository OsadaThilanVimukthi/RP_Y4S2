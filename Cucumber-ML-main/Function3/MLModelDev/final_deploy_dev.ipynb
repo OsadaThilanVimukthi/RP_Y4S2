{
 "cells": [
  {
   "cell_type": "markdown",
   "metadata": {},
   "source": [
    "# Final Deploy Leaf Disease Detection ML Model"
   ]
  },
  {
   "cell_type": "markdown",
   "metadata": {},
   "source": [
    "## VGG16"
   ]
  },
  {
   "cell_type": "code",
   "execution_count": 58,
   "metadata": {},
   "outputs": [
    {
     "name": "stdout",
     "output_type": "stream",
     "text": [
      "1/1 [==============================] - 0s 324ms/step\n",
      "Leaves have a disease.\n",
      "Class: powdery mildew stage 2\n",
      "Confidence: 100.00%\n"
     ]
    }
   ],
   "source": [
    "import tensorflow as tf\n",
    "import numpy as np\n",
    "from tensorflow import keras\n",
    "from keras.applications.vgg16 import preprocess_input\n",
    "from keras.preprocessing import image\n",
    "import os\n",
    "\n",
    "# Load the trained model\n",
    "model = keras.models.load_model(\"./fun3/best_model_v2.0.h5\")  # Load the best model from Function 3\n",
    "\n",
    "# Define the class labels\n",
    "class_labels = [\n",
    "    'Healthy leaves',\n",
    "    'downy mildew stage 1',\n",
    "    'downy mildew stage 2',\n",
    "    'powdery mildew stage 1',\n",
    "    'powdery mildew stage 2'\n",
    "]\n",
    "\n",
    "# Load and preprocess the input image\n",
    "def preprocess_image(image_path, target_size):\n",
    "    img = image.load_img(image_path, target_size=target_size)\n",
    "    img_array = image.img_to_array(img)\n",
    "    img_array = preprocess_input(img_array)\n",
    "    img_array = np.expand_dims(img_array, axis=0)\n",
    "    return img_array\n",
    "\n",
    "# Define a function to make predictions\n",
    "def predict_class(image_path):\n",
    "    img_array = preprocess_image(image_path, target_size=(224, 224))  # Use the same target size as during training\n",
    "    predictions = model.predict(img_array)\n",
    "    class_index = np.argmax(predictions)\n",
    "    class_label = class_labels[class_index]\n",
    "    confidence = predictions[0, class_index]\n",
    "    return class_label, confidence\n",
    "\n",
    "# Provide the path to the image you want to classify\n",
    "image_path = \"./testing-images/powdery mildew stage 2/IMG_6800.JPG\"\n",
    "\n",
    "# Get the class label and confidence\n",
    "class_label, confidence = predict_class(image_path)\n",
    "\n",
    "# Define a function to post-process the prediction\n",
    "def post_process(class_label):\n",
    "    if class_label == \"Healthy leaves\":\n",
    "        return \"Leaves are healthy.\"\n",
    "    else:\n",
    "        return \"Leaves have a disease.\"\n",
    "\n",
    "# Print the results\n",
    "print(post_process(class_label))\n",
    "print(f\"Class: {class_label}\")\n",
    "print(f\"Confidence: {confidence * 100:.2f}%\")\n"
   ]
  },
  {
   "cell_type": "markdown",
   "metadata": {},
   "source": [
    "-------------------"
   ]
  },
  {
   "cell_type": "markdown",
   "metadata": {},
   "source": [
    "### Loop to check all the images in a directory and print the class label along with the name of each image."
   ]
  },
  {
   "cell_type": "code",
   "execution_count": 10,
   "metadata": {},
   "outputs": [
    {
     "name": "stdout",
     "output_type": "stream",
     "text": [
      "1/1 [==============================] - 1s 531ms/step\n",
      "Image: 1.jpg, Class: downy mildew stage 2, Result: Leaves have a disease., Confidence: 100.00%\n",
      "1/1 [==============================] - 0s 133ms/step\n",
      "Image: 2.jpg, Class: downy mildew stage 2, Result: Leaves have a disease., Confidence: 100.00%\n",
      "1/1 [==============================] - 0s 116ms/step\n",
      "Image: 3.jpg, Class: downy mildew stage 2, Result: Leaves have a disease., Confidence: 100.00%\n",
      "1/1 [==============================] - 0s 116ms/step\n",
      "Image: 4.jpg, Class: Healthy leaves, Result: Leaves are healthy., Confidence: 100.00%\n"
     ]
    }
   ],
   "source": [
    "import tensorflow as tf\n",
    "import numpy as np\n",
    "from tensorflow import keras\n",
    "from keras.applications.vgg16 import preprocess_input\n",
    "from keras.preprocessing import image\n",
    "import os\n",
    "\n",
    "# Define the directory containing the images\n",
    "image_directory = \"./testing-images/Unseen/powdery mildew stage 2/\"\n",
    "\n",
    "# List all files in the directory\n",
    "image_files = os.listdir(image_directory)\n",
    "\n",
    "# Load the trained model\n",
    "model = keras.models.load_model(\"./fun3/best_model_v2.0.h5\")\n",
    "\n",
    "# Define the class labels\n",
    "class_labels = [\n",
    "    'Healthy leaves',\n",
    "    'downy mildew stage 1',\n",
    "    'downy mildew stage 2',\n",
    "    'powdery mildew stage 1',\n",
    "    'powdery mildew stage 2'\n",
    "]\n",
    "\n",
    "# Load and preprocess the input image\n",
    "def preprocess_image(image_path, target_size):\n",
    "    img = image.load_img(image_path, target_size=target_size)\n",
    "    img_array = image.img_to_array(img)\n",
    "    img_array = preprocess_input(img_array)\n",
    "    img_array = np.expand_dims(img_array, axis=0)\n",
    "    return img_array\n",
    "\n",
    "# Define a function to make predictions\n",
    "def predict_class(image_path):\n",
    "    img_array = preprocess_image(image_path, target_size=(224, 224))  # Use the same target size as during training\n",
    "    predictions = model.predict(img_array)\n",
    "    class_index = np.argmax(predictions)\n",
    "    class_label = class_labels[class_index]\n",
    "    confidence = predictions[0, class_index]\n",
    "    return class_label, confidence\n",
    "\n",
    "# Define a function to post-process the prediction\n",
    "def post_process(class_label):\n",
    "    if class_label == \"Healthy leaves\":\n",
    "        return \"Leaves are healthy.\"\n",
    "    else:\n",
    "        return \"Leaves have a disease.\"\n",
    "\n",
    "# Loop through all image files\n",
    "for image_file in image_files:\n",
    "    image_path = os.path.join(image_directory, image_file)\n",
    "    class_label, confidence = predict_class(image_path)\n",
    "    result = post_process(class_label)\n",
    "    print(f\"Image: {image_file}, Class: {class_label}, Result: {result}, Confidence: {confidence * 100:.2f}%\")\n"
   ]
  },
  {
   "cell_type": "markdown",
   "metadata": {},
   "source": [
    "-----------"
   ]
  },
  {
   "cell_type": "markdown",
   "metadata": {},
   "source": [
    "## VGG16 with 800 images for each label - v0"
   ]
  },
  {
   "cell_type": "code",
   "execution_count": 17,
   "metadata": {},
   "outputs": [
    {
     "name": "stdout",
     "output_type": "stream",
     "text": [
      "1/1 [==============================] - 1s 929ms/step\n",
      "Image: IMG_6733.JPG, Class: powdery mildew stage 2, Result: Leaves have a disease., Confidence: 100.00%\n",
      "1/1 [==============================] - 0s 150ms/step\n",
      "Image: IMG_6739.JPG, Class: powdery mildew stage 2, Result: Leaves have a disease., Confidence: 100.00%\n",
      "1/1 [==============================] - 0s 156ms/step\n",
      "Image: IMG_6800.JPG, Class: powdery mildew stage 2, Result: Leaves have a disease., Confidence: 100.00%\n",
      "1/1 [==============================] - 0s 409ms/step\n",
      "Image: IMG_6806.JPG, Class: powdery mildew stage 2, Result: Leaves have a disease., Confidence: 100.00%\n",
      "1/1 [==============================] - 0s 394ms/step\n",
      "Image: IMG_6809.JPG, Class: powdery mildew stage 2, Result: Leaves have a disease., Confidence: 100.00%\n",
      "1/1 [==============================] - 0s 375ms/step\n",
      "Image: IMG_7316.JPG, Class: powdery mildew stage 2, Result: Leaves have a disease., Confidence: 100.00%\n",
      "1/1 [==============================] - 0s 362ms/step\n",
      "Image: IMG_7454.JPG, Class: powdery mildew stage 2, Result: Leaves have a disease., Confidence: 100.00%\n",
      "1/1 [==============================] - 0s 341ms/step\n",
      "Image: IMG_7465.JPG, Class: powdery mildew stage 2, Result: Leaves have a disease., Confidence: 100.00%\n",
      "1/1 [==============================] - 0s 384ms/step\n",
      "Image: IMG_7480.JPG, Class: powdery mildew stage 2, Result: Leaves have a disease., Confidence: 100.00%\n",
      "1/1 [==============================] - 0s 457ms/step\n",
      "Image: IMG_7513.JPG, Class: powdery mildew stage 2, Result: Leaves have a disease., Confidence: 100.00%\n"
     ]
    }
   ],
   "source": [
    "import tensorflow as tf\n",
    "import numpy as np\n",
    "from tensorflow import keras\n",
    "from keras.applications.vgg16 import preprocess_input\n",
    "from keras.preprocessing import image\n",
    "import os\n",
    "\n",
    "# Define the directory containing the images\n",
    "image_directory = \"./testing-images/powdery mildew stage 2/\"\n",
    "\n",
    "# List all files in the directory\n",
    "image_files = os.listdir(image_directory)\n",
    "\n",
    "# Load the trained model\n",
    "model = keras.models.load_model(\"./fun3/VGG16_best_model_800.h5\")\n",
    "\n",
    "# Define the class labels\n",
    "class_labels = [\n",
    "    'Healthy leaves',\n",
    "    'downy mildew stage 1',\n",
    "    'downy mildew stage 2',\n",
    "    'powdery mildew stage 1',\n",
    "    'powdery mildew stage 2'\n",
    "]\n",
    "\n",
    "# Load and preprocess the input image\n",
    "def preprocess_image(image_path, target_size):\n",
    "    img = image.load_img(image_path, target_size=target_size)\n",
    "    img_array = image.img_to_array(img)\n",
    "    img_array = preprocess_input(img_array)\n",
    "    img_array = np.expand_dims(img_array, axis=0)\n",
    "    return img_array\n",
    "\n",
    "# Define a function to make predictions\n",
    "def predict_class(image_path):\n",
    "    img_array = preprocess_image(image_path, target_size=(224, 224))  # Use the same target size as during training\n",
    "    predictions = model.predict(img_array)\n",
    "    class_index = np.argmax(predictions)\n",
    "    class_label = class_labels[class_index]\n",
    "    confidence = predictions[0, class_index]\n",
    "    return class_label, confidence\n",
    "\n",
    "# Define a function to post-process the prediction\n",
    "def post_process(class_label):\n",
    "    if class_label == \"Healthy leaves\":\n",
    "        return \"Leaves are healthy.\"\n",
    "    else:\n",
    "        return \"Leaves have a disease.\"\n",
    "\n",
    "# Loop through all image files\n",
    "for image_file in image_files:\n",
    "    image_path = os.path.join(image_directory, image_file)\n",
    "    class_label, confidence = predict_class(image_path)\n",
    "    result = post_process(class_label)\n",
    "    print(f\"Image: {image_file}, Class: {class_label}, Result: {result}, Confidence: {confidence * 100:.2f}%\")\n"
   ]
  },
  {
   "cell_type": "markdown",
   "metadata": {},
   "source": [
    "--------------"
   ]
  },
  {
   "cell_type": "markdown",
   "metadata": {},
   "source": [
    "## VGG16 with 800 images for each label - v1"
   ]
  },
  {
   "cell_type": "code",
   "execution_count": 22,
   "metadata": {},
   "outputs": [
    {
     "name": "stdout",
     "output_type": "stream",
     "text": [
      "1/1 [==============================] - 0s 240ms/step\n",
      "Image: IMG_9050.JPG, Class: downy mildew stage 1, Result: Leaves have a disease., Confidence: 100.00%\n",
      "1/1 [==============================] - 0s 113ms/step\n",
      "Image: IMG_9078.JPG, Class: downy mildew stage 1, Result: Leaves have a disease., Confidence: 100.00%\n",
      "1/1 [==============================] - 0s 100ms/step\n",
      "Image: IMG_9082.JPG, Class: downy mildew stage 1, Result: Leaves have a disease., Confidence: 100.00%\n",
      "1/1 [==============================] - 0s 105ms/step\n",
      "Image: IMG_9110.JPG, Class: downy mildew stage 1, Result: Leaves have a disease., Confidence: 100.00%\n",
      "1/1 [==============================] - 0s 100ms/step\n",
      "Image: IMG_9175.JPG, Class: downy mildew stage 1, Result: Leaves have a disease., Confidence: 100.00%\n",
      "1/1 [==============================] - 0s 99ms/step\n",
      "Image: IMG_9186.JPG, Class: downy mildew stage 1, Result: Leaves have a disease., Confidence: 100.00%\n",
      "1/1 [==============================] - 0s 99ms/step\n",
      "Image: IMG_9398.JPG, Class: downy mildew stage 1, Result: Leaves have a disease., Confidence: 100.00%\n",
      "1/1 [==============================] - 0s 100ms/step\n",
      "Image: IMG_9441.JPG, Class: downy mildew stage 1, Result: Leaves have a disease., Confidence: 100.00%\n",
      "1/1 [==============================] - 0s 94ms/step\n",
      "Image: IMG_9458.JPG, Class: downy mildew stage 1, Result: Leaves have a disease., Confidence: 100.00%\n",
      "1/1 [==============================] - 0s 97ms/step\n",
      "Image: IMG_E9186.JPG, Class: downy mildew stage 1, Result: Leaves have a disease., Confidence: 100.00%\n"
     ]
    }
   ],
   "source": [
    "import tensorflow as tf\n",
    "import numpy as np\n",
    "from tensorflow import keras\n",
    "from keras.applications.vgg16 import preprocess_input\n",
    "from keras.preprocessing import image\n",
    "import os\n",
    "\n",
    "# Define the directory containing the images\n",
    "image_directory = \"./testing-images/downy mildew stage 2/\"\n",
    "\n",
    "# List all files in the directory\n",
    "image_files = os.listdir(image_directory)\n",
    "\n",
    "# Load the trained model\n",
    "model = keras.models.load_model(\"./fun3/VGG16_best_model_800_v1.h5\")\n",
    "\n",
    "# Define the class labels\n",
    "class_labels = [\n",
    "    'Healthy leaves',\n",
    "    'downy mildew stage 1',\n",
    "    'downy mildew stage 2',\n",
    "    'powdery mildew stage 1',\n",
    "    'powdery mildew stage 2'\n",
    "]\n",
    "\n",
    "# Load and preprocess the input image\n",
    "def preprocess_image(image_path, target_size):\n",
    "    img = image.load_img(image_path, target_size=target_size)\n",
    "    img_array = image.img_to_array(img)\n",
    "    img_array = preprocess_input(img_array)\n",
    "    img_array = np.expand_dims(img_array, axis=0)\n",
    "    return img_array\n",
    "\n",
    "# Define a function to make predictions\n",
    "def predict_class(image_path):\n",
    "    img_array = preprocess_image(image_path, target_size=(224, 224))  # Use the same target size as during training\n",
    "    predictions = model.predict(img_array)\n",
    "    class_index = np.argmax(predictions)\n",
    "    class_label = class_labels[class_index]\n",
    "    confidence = predictions[0, class_index]\n",
    "    return class_label, confidence\n",
    "\n",
    "# Define a function to post-process the prediction\n",
    "def post_process(class_label):\n",
    "    if class_label == \"Healthy leaves\":\n",
    "        return \"Leaves are healthy.\"\n",
    "    else:\n",
    "        return \"Leaves have a disease.\"\n",
    "\n",
    "# Loop through all image files\n",
    "for image_file in image_files:\n",
    "    image_path = os.path.join(image_directory, image_file)\n",
    "    class_label, confidence = predict_class(image_path)\n",
    "    result = post_process(class_label)\n",
    "    print(f\"Image: {image_file}, Class: {class_label}, Result: {result}, Confidence: {confidence * 100:.2f}%\")\n"
   ]
  }
 ],
 "metadata": {
  "kernelspec": {
   "display_name": "cucumber-dev",
   "language": "python",
   "name": "python3"
  },
  "language_info": {
   "codemirror_mode": {
    "name": "ipython",
    "version": 3
   },
   "file_extension": ".py",
   "mimetype": "text/x-python",
   "name": "python",
   "nbconvert_exporter": "python",
   "pygments_lexer": "ipython3",
   "version": "3.10.13"
  }
 },
 "nbformat": 4,
 "nbformat_minor": 2
}
