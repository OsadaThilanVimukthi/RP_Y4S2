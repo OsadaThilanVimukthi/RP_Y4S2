{
 "cells": [
  {
   "cell_type": "markdown",
   "metadata": {},
   "source": [
    "# Final Deploy Leaf Disease Detection ML Model"
   ]
  },
  {
   "cell_type": "markdown",
   "metadata": {},
   "source": [
    "# VGG16"
   ]
  },
  {
   "cell_type": "code",
   "execution_count": 3,
   "metadata": {},
   "outputs": [
    {
     "name": "stdout",
     "output_type": "stream",
     "text": [
      "1/1 [==============================] - 0s 206ms/step\n",
      "These are Cucumber Leaves.\n",
      "Class: Cucumber Leaves\n"
     ]
    }
   ],
   "source": [
    "import tensorflow as tf\n",
    "import numpy as np\n",
    "from tensorflow import keras\n",
    "from keras.applications.vgg16 import preprocess_input\n",
    "from keras.preprocessing import image\n",
    "import os\n",
    "\n",
    "# Load the trained model\n",
    "model = keras.models.load_model(\"./fun3/best_model_epoch4.h5\")\n",
    "\n",
    "# Define the class labels\n",
    "class_labels = [\n",
    "    'Cucumber Leaves',\n",
    "    'Other Leaves'\n",
    "]\n",
    "\n",
    "# Load and preprocess the input image\n",
    "def preprocess_image(image_path, target_size):\n",
    "    img = image.load_img(image_path, target_size=target_size)\n",
    "    img_array = image.img_to_array(img)\n",
    "    img_array = preprocess_input(img_array)\n",
    "    img_array = np.expand_dims(img_array, axis=0)\n",
    "    return img_array\n",
    "\n",
    "# Define a function to make predictions\n",
    "def predict_class(image_path):\n",
    "    img_array = preprocess_image(image_path, target_size=(224, 224))  # Use the same target size as during training\n",
    "    predictions = model.predict(img_array)\n",
    "    class_index = np.argmax(predictions)\n",
    "    class_label = class_labels[class_index]\n",
    "    return class_label\n",
    "\n",
    "# Provide the path to the image you want to classify\n",
    "image_path = \"./testing-images/Unseen/Cucumber Leaves/1.jpg\"\n",
    "\n",
    "# Get the class label\n",
    "class_label = predict_class(image_path)\n",
    "\n",
    "# Define a function to post-process the prediction\n",
    "def post_process(class_label):\n",
    "    if class_label == \"Cucumber Leaves\":\n",
    "        return \"These are Cucumber Leaves.\"\n",
    "    else:\n",
    "        return \"These are not Cucumber Leaves.\"\n",
    "\n",
    "# Print the results\n",
    "print(post_process(class_label))\n",
    "print(f\"Class: {class_label}\")"
   ]
  }
 ],
 "metadata": {
  "kernelspec": {
   "display_name": "cucumber-dev",
   "language": "python",
   "name": "python3"
  },
  "language_info": {
   "codemirror_mode": {
    "name": "ipython",
    "version": 3
   },
   "file_extension": ".py",
   "mimetype": "text/x-python",
   "name": "python",
   "nbconvert_exporter": "python",
   "pygments_lexer": "ipython3",
   "version": "3.10.13"
  }
 },
 "nbformat": 4,
 "nbformat_minor": 2
}
